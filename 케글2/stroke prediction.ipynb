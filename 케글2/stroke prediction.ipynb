{
 "cells": [
  {
   "cell_type": "code",
   "execution_count": 4,
   "id": "089434ce",
   "metadata": {},
   "outputs": [],
   "source": [
    "import pandas as pd\n",
    "import matplotlib.pyplot as plt\n",
    "import numpy as np\n",
    "import seaborn as sns"
   ]
  },
  {
   "cell_type": "code",
   "execution_count": 5,
   "id": "ec961d26",
   "metadata": {
    "scrolled": true
   },
   "outputs": [
    {
     "data": {
      "text/html": [
       "<div>\n",
       "<style scoped>\n",
       "    .dataframe tbody tr th:only-of-type {\n",
       "        vertical-align: middle;\n",
       "    }\n",
       "\n",
       "    .dataframe tbody tr th {\n",
       "        vertical-align: top;\n",
       "    }\n",
       "\n",
       "    .dataframe thead th {\n",
       "        text-align: right;\n",
       "    }\n",
       "</style>\n",
       "<table border=\"1\" class=\"dataframe\">\n",
       "  <thead>\n",
       "    <tr style=\"text-align: right;\">\n",
       "      <th></th>\n",
       "      <th>id</th>\n",
       "      <th>gender</th>\n",
       "      <th>age</th>\n",
       "      <th>hypertension</th>\n",
       "      <th>heart_disease</th>\n",
       "      <th>ever_married</th>\n",
       "      <th>work_type</th>\n",
       "      <th>Residence_type</th>\n",
       "      <th>avg_glucose_level</th>\n",
       "      <th>bmi</th>\n",
       "      <th>smoking_status</th>\n",
       "      <th>stroke</th>\n",
       "    </tr>\n",
       "  </thead>\n",
       "  <tbody>\n",
       "    <tr>\n",
       "      <th>0</th>\n",
       "      <td>0</td>\n",
       "      <td>Male</td>\n",
       "      <td>28.0</td>\n",
       "      <td>0</td>\n",
       "      <td>0</td>\n",
       "      <td>Yes</td>\n",
       "      <td>Private</td>\n",
       "      <td>Urban</td>\n",
       "      <td>79.53</td>\n",
       "      <td>31.1</td>\n",
       "      <td>never smoked</td>\n",
       "      <td>0</td>\n",
       "    </tr>\n",
       "    <tr>\n",
       "      <th>1</th>\n",
       "      <td>1</td>\n",
       "      <td>Male</td>\n",
       "      <td>33.0</td>\n",
       "      <td>0</td>\n",
       "      <td>0</td>\n",
       "      <td>Yes</td>\n",
       "      <td>Private</td>\n",
       "      <td>Rural</td>\n",
       "      <td>78.44</td>\n",
       "      <td>23.9</td>\n",
       "      <td>formerly smoked</td>\n",
       "      <td>0</td>\n",
       "    </tr>\n",
       "    <tr>\n",
       "      <th>2</th>\n",
       "      <td>2</td>\n",
       "      <td>Female</td>\n",
       "      <td>42.0</td>\n",
       "      <td>0</td>\n",
       "      <td>0</td>\n",
       "      <td>Yes</td>\n",
       "      <td>Private</td>\n",
       "      <td>Rural</td>\n",
       "      <td>103.00</td>\n",
       "      <td>40.3</td>\n",
       "      <td>Unknown</td>\n",
       "      <td>0</td>\n",
       "    </tr>\n",
       "    <tr>\n",
       "      <th>3</th>\n",
       "      <td>3</td>\n",
       "      <td>Male</td>\n",
       "      <td>56.0</td>\n",
       "      <td>0</td>\n",
       "      <td>0</td>\n",
       "      <td>Yes</td>\n",
       "      <td>Private</td>\n",
       "      <td>Urban</td>\n",
       "      <td>64.87</td>\n",
       "      <td>28.8</td>\n",
       "      <td>never smoked</td>\n",
       "      <td>0</td>\n",
       "    </tr>\n",
       "    <tr>\n",
       "      <th>4</th>\n",
       "      <td>4</td>\n",
       "      <td>Female</td>\n",
       "      <td>24.0</td>\n",
       "      <td>0</td>\n",
       "      <td>0</td>\n",
       "      <td>No</td>\n",
       "      <td>Private</td>\n",
       "      <td>Rural</td>\n",
       "      <td>73.36</td>\n",
       "      <td>28.8</td>\n",
       "      <td>never smoked</td>\n",
       "      <td>0</td>\n",
       "    </tr>\n",
       "    <tr>\n",
       "      <th>...</th>\n",
       "      <td>...</td>\n",
       "      <td>...</td>\n",
       "      <td>...</td>\n",
       "      <td>...</td>\n",
       "      <td>...</td>\n",
       "      <td>...</td>\n",
       "      <td>...</td>\n",
       "      <td>...</td>\n",
       "      <td>...</td>\n",
       "      <td>...</td>\n",
       "      <td>...</td>\n",
       "      <td>...</td>\n",
       "    </tr>\n",
       "    <tr>\n",
       "      <th>15299</th>\n",
       "      <td>15299</td>\n",
       "      <td>Female</td>\n",
       "      <td>22.0</td>\n",
       "      <td>0</td>\n",
       "      <td>0</td>\n",
       "      <td>No</td>\n",
       "      <td>Govt_job</td>\n",
       "      <td>Urban</td>\n",
       "      <td>72.63</td>\n",
       "      <td>19.5</td>\n",
       "      <td>never smoked</td>\n",
       "      <td>0</td>\n",
       "    </tr>\n",
       "    <tr>\n",
       "      <th>15300</th>\n",
       "      <td>15300</td>\n",
       "      <td>Female</td>\n",
       "      <td>46.0</td>\n",
       "      <td>1</td>\n",
       "      <td>0</td>\n",
       "      <td>Yes</td>\n",
       "      <td>Private</td>\n",
       "      <td>Urban</td>\n",
       "      <td>101.19</td>\n",
       "      <td>32.1</td>\n",
       "      <td>never smoked</td>\n",
       "      <td>0</td>\n",
       "    </tr>\n",
       "    <tr>\n",
       "      <th>15301</th>\n",
       "      <td>15301</td>\n",
       "      <td>Female</td>\n",
       "      <td>75.0</td>\n",
       "      <td>0</td>\n",
       "      <td>0</td>\n",
       "      <td>Yes</td>\n",
       "      <td>Self-employed</td>\n",
       "      <td>Urban</td>\n",
       "      <td>87.69</td>\n",
       "      <td>26.2</td>\n",
       "      <td>never smoked</td>\n",
       "      <td>0</td>\n",
       "    </tr>\n",
       "    <tr>\n",
       "      <th>15302</th>\n",
       "      <td>15302</td>\n",
       "      <td>Male</td>\n",
       "      <td>46.0</td>\n",
       "      <td>0</td>\n",
       "      <td>0</td>\n",
       "      <td>Yes</td>\n",
       "      <td>Private</td>\n",
       "      <td>Rural</td>\n",
       "      <td>101.13</td>\n",
       "      <td>22.5</td>\n",
       "      <td>Unknown</td>\n",
       "      <td>0</td>\n",
       "    </tr>\n",
       "    <tr>\n",
       "      <th>15303</th>\n",
       "      <td>15303</td>\n",
       "      <td>Female</td>\n",
       "      <td>14.0</td>\n",
       "      <td>0</td>\n",
       "      <td>0</td>\n",
       "      <td>No</td>\n",
       "      <td>Private</td>\n",
       "      <td>Rural</td>\n",
       "      <td>85.12</td>\n",
       "      <td>24.7</td>\n",
       "      <td>never smoked</td>\n",
       "      <td>0</td>\n",
       "    </tr>\n",
       "  </tbody>\n",
       "</table>\n",
       "<p>15304 rows × 12 columns</p>\n",
       "</div>"
      ],
      "text/plain": [
       "          id  gender   age  hypertension  heart_disease ever_married  \\\n",
       "0          0    Male  28.0             0              0          Yes   \n",
       "1          1    Male  33.0             0              0          Yes   \n",
       "2          2  Female  42.0             0              0          Yes   \n",
       "3          3    Male  56.0             0              0          Yes   \n",
       "4          4  Female  24.0             0              0           No   \n",
       "...      ...     ...   ...           ...            ...          ...   \n",
       "15299  15299  Female  22.0             0              0           No   \n",
       "15300  15300  Female  46.0             1              0          Yes   \n",
       "15301  15301  Female  75.0             0              0          Yes   \n",
       "15302  15302    Male  46.0             0              0          Yes   \n",
       "15303  15303  Female  14.0             0              0           No   \n",
       "\n",
       "           work_type Residence_type  avg_glucose_level   bmi   smoking_status  \\\n",
       "0            Private          Urban              79.53  31.1     never smoked   \n",
       "1            Private          Rural              78.44  23.9  formerly smoked   \n",
       "2            Private          Rural             103.00  40.3          Unknown   \n",
       "3            Private          Urban              64.87  28.8     never smoked   \n",
       "4            Private          Rural              73.36  28.8     never smoked   \n",
       "...              ...            ...                ...   ...              ...   \n",
       "15299       Govt_job          Urban              72.63  19.5     never smoked   \n",
       "15300        Private          Urban             101.19  32.1     never smoked   \n",
       "15301  Self-employed          Urban              87.69  26.2     never smoked   \n",
       "15302        Private          Rural             101.13  22.5          Unknown   \n",
       "15303        Private          Rural              85.12  24.7     never smoked   \n",
       "\n",
       "       stroke  \n",
       "0           0  \n",
       "1           0  \n",
       "2           0  \n",
       "3           0  \n",
       "4           0  \n",
       "...       ...  \n",
       "15299       0  \n",
       "15300       0  \n",
       "15301       0  \n",
       "15302       0  \n",
       "15303       0  \n",
       "\n",
       "[15304 rows x 12 columns]"
      ]
     },
     "execution_count": 5,
     "metadata": {},
     "output_type": "execute_result"
    }
   ],
   "source": [
    "train_df = pd.read_csv('train.csv')\n",
    "train_df"
   ]
  },
  {
   "cell_type": "markdown",
   "id": "ced5c289",
   "metadata": {},
   "source": [
    "```\n",
    "1) id: 고유 식별자\n",
    "2) 성별: \"남성\", \"여성\" 또는 \"기타\"\n",
    "3) 연령: 환자의 나이\n",
    "4) 고혈압: 고혈압이 없는 경우 0, 고혈압이 있는 경우 1\n",
    "5 ) heart_disease: 환자에게 심장 질환이 없는 경우 0, 심장 질환이 있는 경우 1 6\n",
    ") ever_married: \"아니오\" 또는 \"예\"\n",
    "7) work_type: \"children\", \"Govt_jov\", \"Never_worked\", \"개인\" 또는 \"자영업자\"\n",
    "8) 거주 유형: \"시골\" 또는 \"도시\"\n",
    "9) avg_glucose_level: 평균 혈중 포도당 수치\n",
    "10) bmi: 체질량 지수\n",
    "11) smoking_status: \"과거 흡연자\", \"비흡연자\", \"연기\"또는 \"알 수 없음\"*\n",
    "12) 뇌졸중: 환자에게 뇌졸중이 있으면 1, 그렇지 않으면 0\n",
    "*참고: smoking_status의 \"알 수 없음\"은 이 환자에 대한 정보를 사용할 수 없음을 의미합니다.\n",
    "```"
   ]
  },
  {
   "cell_type": "code",
   "execution_count": 7,
   "id": "5691f9db",
   "metadata": {},
   "outputs": [
    {
     "name": "stdout",
     "output_type": "stream",
     "text": [
      "<class 'pandas.core.frame.DataFrame'>\n",
      "RangeIndex: 15304 entries, 0 to 15303\n",
      "Data columns (total 12 columns):\n",
      " #   Column             Non-Null Count  Dtype  \n",
      "---  ------             --------------  -----  \n",
      " 0   id                 15304 non-null  int64  \n",
      " 1   gender             15304 non-null  object \n",
      " 2   age                15304 non-null  float64\n",
      " 3   hypertension       15304 non-null  int64  \n",
      " 4   heart_disease      15304 non-null  int64  \n",
      " 5   ever_married       15304 non-null  object \n",
      " 6   work_type          15304 non-null  object \n",
      " 7   Residence_type     15304 non-null  object \n",
      " 8   avg_glucose_level  15304 non-null  float64\n",
      " 9   bmi                15304 non-null  float64\n",
      " 10  smoking_status     15304 non-null  object \n",
      " 11  stroke             15304 non-null  int64  \n",
      "dtypes: float64(3), int64(4), object(5)\n",
      "memory usage: 1.4+ MB\n"
     ]
    }
   ],
   "source": [
    "train_df.info()"
   ]
  },
  {
   "cell_type": "code",
   "execution_count": 8,
   "id": "f15fcf53",
   "metadata": {},
   "outputs": [
    {
     "data": {
      "text/plain": [
       "array([[<AxesSubplot:title={'center':'id'}>,\n",
       "        <AxesSubplot:title={'center':'age'}>,\n",
       "        <AxesSubplot:title={'center':'hypertension'}>],\n",
       "       [<AxesSubplot:title={'center':'heart_disease'}>,\n",
       "        <AxesSubplot:title={'center':'avg_glucose_level'}>,\n",
       "        <AxesSubplot:title={'center':'bmi'}>],\n",
       "       [<AxesSubplot:title={'center':'stroke'}>, <AxesSubplot:>,\n",
       "        <AxesSubplot:>]], dtype=object)"
      ]
     },
     "execution_count": 8,
     "metadata": {},
     "output_type": "execute_result"
    },
    {
     "data": {
      "image/png": "[encoded data removed]",
      "text/plain": [
       "<Figure size 1200x800 with 9 Axes>"
      ]
     },
     "metadata": {},
     "output_type": "display_data"
    }
   ],
   "source": [
    "train_df.hist(figsize=(12,8))"
   ]
  },
  {
   "cell_type": "markdown",
   "id": "28286b12",
   "metadata": {},
   "source": [
    "**target 분포 확인**"
   ]
  },
  {
   "cell_type": "code",
   "execution_count": 9,
   "id": "2a75ae2d",
   "metadata": {},
   "outputs": [
    {
     "data": {
      "text/plain": [
       "<AxesSubplot:xlabel='stroke', ylabel='count'>"
      ]
     },
     "execution_count": 9,
     "metadata": {},
     "output_type": "execute_result"
    },
    {
     "data": {
      "image/png": "[encoded data removed]",
      "text/plain": [
       "<Figure size 640x480 with 1 Axes>"
      ]
     },
     "metadata": {},
     "output_type": "display_data"
    }
   ],
   "source": [
    "sns.countplot(data=train_df, x='stroke')"
   ]
  },
  {
   "cell_type": "code",
   "execution_count": 10,
   "id": "170c38d2",
   "metadata": {},
   "outputs": [
    {
     "data": {
      "text/plain": [
       "0    14672\n",
       "1      632\n",
       "Name: stroke, dtype: int64"
      ]
     },
     "execution_count": 10,
     "metadata": {},
     "output_type": "execute_result"
    }
   ],
   "source": [
    "train_df['stroke'].value_counts()"
   ]
  },
  {
   "cell_type": "code",
   "execution_count": 11,
   "id": "adc74fa5",
   "metadata": {
    "scrolled": true
   },
   "outputs": [
    {
     "data": {
      "text/plain": [
       "stroke               1.000000\n",
       "age                  0.261320\n",
       "avg_glucose_level    0.149273\n",
       "hypertension         0.145895\n",
       "heart_disease        0.111518\n",
       "bmi                  0.065393\n",
       "id                  -0.017290\n",
       "dtype: float64"
      ]
     },
     "execution_count": 11,
     "metadata": {},
     "output_type": "execute_result"
    }
   ],
   "source": [
    "train_df.corrwith(train_df['stroke']).sort_values(ascending=False)"
   ]
  },
  {
   "cell_type": "code",
   "execution_count": 52,
   "id": "e26d157c",
   "metadata": {},
   "outputs": [
    {
     "data": {
      "image/png": "[encoded data removed]",
      "text/plain": [
       "<Figure size 2000x1000 with 2 Axes>"
      ]
     },
     "metadata": {},
     "output_type": "display_data"
    }
   ],
   "source": [
    "# heatmap\n",
    "plt.figure(figsize=(20, 10))\n",
    "\n",
    "sns.heatmap(data=train_df.corr(), annot=True, fmt='.2f', cmap='YlGnBu', linewidth=1.0)\n",
    "plt.show()"
   ]
  },
  {
   "cell_type": "markdown",
   "id": "9a52bcad",
   "metadata": {},
   "source": [
    "- 특이값 확인"
   ]
  },
  {
   "cell_type": "code",
   "execution_count": 33,
   "id": "d19afb41",
   "metadata": {
    "scrolled": true
   },
   "outputs": [
    {
     "data": {
      "text/html": [
       "<div>\n",
       "<style scoped>\n",
       "    .dataframe tbody tr th:only-of-type {\n",
       "        vertical-align: middle;\n",
       "    }\n",
       "\n",
       "    .dataframe tbody tr th {\n",
       "        vertical-align: top;\n",
       "    }\n",
       "\n",
       "    .dataframe thead th {\n",
       "        text-align: right;\n",
       "    }\n",
       "</style>\n",
       "<table border=\"1\" class=\"dataframe\">\n",
       "  <thead>\n",
       "    <tr style=\"text-align: right;\">\n",
       "      <th></th>\n",
       "      <th>id</th>\n",
       "      <th>age</th>\n",
       "      <th>hypertension</th>\n",
       "      <th>heart_disease</th>\n",
       "      <th>avg_glucose_level</th>\n",
       "      <th>bmi</th>\n",
       "      <th>stroke</th>\n",
       "    </tr>\n",
       "  </thead>\n",
       "  <tbody>\n",
       "    <tr>\n",
       "      <th>count</th>\n",
       "      <td>15304.000000</td>\n",
       "      <td>15304.000000</td>\n",
       "      <td>15304.000000</td>\n",
       "      <td>15304.000000</td>\n",
       "      <td>15304.000000</td>\n",
       "      <td>15304.000000</td>\n",
       "      <td>15304.000000</td>\n",
       "    </tr>\n",
       "    <tr>\n",
       "      <th>mean</th>\n",
       "      <td>7651.500000</td>\n",
       "      <td>41.417708</td>\n",
       "      <td>0.049726</td>\n",
       "      <td>0.023327</td>\n",
       "      <td>89.039853</td>\n",
       "      <td>28.112721</td>\n",
       "      <td>0.041296</td>\n",
       "    </tr>\n",
       "    <tr>\n",
       "      <th>std</th>\n",
       "      <td>4418.028595</td>\n",
       "      <td>21.444673</td>\n",
       "      <td>0.217384</td>\n",
       "      <td>0.150946</td>\n",
       "      <td>25.476102</td>\n",
       "      <td>6.722315</td>\n",
       "      <td>0.198981</td>\n",
       "    </tr>\n",
       "    <tr>\n",
       "      <th>min</th>\n",
       "      <td>0.000000</td>\n",
       "      <td>0.080000</td>\n",
       "      <td>0.000000</td>\n",
       "      <td>0.000000</td>\n",
       "      <td>55.220000</td>\n",
       "      <td>10.300000</td>\n",
       "      <td>0.000000</td>\n",
       "    </tr>\n",
       "    <tr>\n",
       "      <th>25%</th>\n",
       "      <td>3825.750000</td>\n",
       "      <td>26.000000</td>\n",
       "      <td>0.000000</td>\n",
       "      <td>0.000000</td>\n",
       "      <td>74.900000</td>\n",
       "      <td>23.500000</td>\n",
       "      <td>0.000000</td>\n",
       "    </tr>\n",
       "    <tr>\n",
       "      <th>50%</th>\n",
       "      <td>7651.500000</td>\n",
       "      <td>43.000000</td>\n",
       "      <td>0.000000</td>\n",
       "      <td>0.000000</td>\n",
       "      <td>85.120000</td>\n",
       "      <td>27.600000</td>\n",
       "      <td>0.000000</td>\n",
       "    </tr>\n",
       "    <tr>\n",
       "      <th>75%</th>\n",
       "      <td>11477.250000</td>\n",
       "      <td>57.000000</td>\n",
       "      <td>0.000000</td>\n",
       "      <td>0.000000</td>\n",
       "      <td>96.980000</td>\n",
       "      <td>32.000000</td>\n",
       "      <td>0.000000</td>\n",
       "    </tr>\n",
       "    <tr>\n",
       "      <th>max</th>\n",
       "      <td>15303.000000</td>\n",
       "      <td>82.000000</td>\n",
       "      <td>1.000000</td>\n",
       "      <td>1.000000</td>\n",
       "      <td>267.600000</td>\n",
       "      <td>80.100000</td>\n",
       "      <td>1.000000</td>\n",
       "    </tr>\n",
       "  </tbody>\n",
       "</table>\n",
       "</div>"
      ],
      "text/plain": [
       "                 id           age  hypertension  heart_disease  \\\n",
       "count  15304.000000  15304.000000  15304.000000   15304.000000   \n",
       "mean    7651.500000     41.417708      0.049726       0.023327   \n",
       "std     4418.028595     21.444673      0.217384       0.150946   \n",
       "min        0.000000      0.080000      0.000000       0.000000   \n",
       "25%     3825.750000     26.000000      0.000000       0.000000   \n",
       "50%     7651.500000     43.000000      0.000000       0.000000   \n",
       "75%    11477.250000     57.000000      0.000000       0.000000   \n",
       "max    15303.000000     82.000000      1.000000       1.000000   \n",
       "\n",
       "       avg_glucose_level           bmi        stroke  \n",
       "count       15304.000000  15304.000000  15304.000000  \n",
       "mean           89.039853     28.112721      0.041296  \n",
       "std            25.476102      6.722315      0.198981  \n",
       "min            55.220000     10.300000      0.000000  \n",
       "25%            74.900000     23.500000      0.000000  \n",
       "50%            85.120000     27.600000      0.000000  \n",
       "75%            96.980000     32.000000      0.000000  \n",
       "max           267.600000     80.100000      1.000000  "
      ]
     },
     "execution_count": 33,
     "metadata": {},
     "output_type": "execute_result"
    }
   ],
   "source": [
    "train_df.describe()"
   ]
  },
  {
   "cell_type": "code",
   "execution_count": 48,
   "id": "97d7b6b1",
   "metadata": {},
   "outputs": [
    {
     "data": {
      "image/png": "[encoded data removed]",
      "text/plain": [
       "<Figure size 2000x500 with 3 Axes>"
      ]
     },
     "metadata": {},
     "output_type": "display_data"
    }
   ],
   "source": [
    "cat_columns = ['age', 'avg_glucose_level','bmi']\n",
    "fig, axes = plt.subplots(nrows=1, ncols=3, figsize=(20, 5))\n",
    "for i, column in enumerate(cat_columns):\n",
    "    sns.boxplot(data=train_df, x=column, ax=axes[i])\n",
    "plt.show()"
   ]
  },
  {
   "cell_type": "code",
   "execution_count": 12,
   "id": "748ad572",
   "metadata": {},
   "outputs": [
    {
     "data": {
      "text/html": [
       "<div>\n",
       "<style scoped>\n",
       "    .dataframe tbody tr th:only-of-type {\n",
       "        vertical-align: middle;\n",
       "    }\n",
       "\n",
       "    .dataframe tbody tr th {\n",
       "        vertical-align: top;\n",
       "    }\n",
       "\n",
       "    .dataframe thead th {\n",
       "        text-align: right;\n",
       "    }\n",
       "</style>\n",
       "<table border=\"1\" class=\"dataframe\">\n",
       "  <thead>\n",
       "    <tr style=\"text-align: right;\">\n",
       "      <th></th>\n",
       "      <th>gender</th>\n",
       "      <th>ever_married</th>\n",
       "      <th>work_type</th>\n",
       "      <th>Residence_type</th>\n",
       "      <th>smoking_status</th>\n",
       "    </tr>\n",
       "  </thead>\n",
       "  <tbody>\n",
       "    <tr>\n",
       "      <th>count</th>\n",
       "      <td>15304</td>\n",
       "      <td>15304</td>\n",
       "      <td>15304</td>\n",
       "      <td>15304</td>\n",
       "      <td>15304</td>\n",
       "    </tr>\n",
       "    <tr>\n",
       "      <th>unique</th>\n",
       "      <td>3</td>\n",
       "      <td>2</td>\n",
       "      <td>5</td>\n",
       "      <td>2</td>\n",
       "      <td>4</td>\n",
       "    </tr>\n",
       "    <tr>\n",
       "      <th>top</th>\n",
       "      <td>Female</td>\n",
       "      <td>Yes</td>\n",
       "      <td>Private</td>\n",
       "      <td>Rural</td>\n",
       "      <td>never smoked</td>\n",
       "    </tr>\n",
       "    <tr>\n",
       "      <th>freq</th>\n",
       "      <td>9446</td>\n",
       "      <td>10385</td>\n",
       "      <td>9752</td>\n",
       "      <td>7664</td>\n",
       "      <td>6281</td>\n",
       "    </tr>\n",
       "  </tbody>\n",
       "</table>\n",
       "</div>"
      ],
      "text/plain": [
       "        gender ever_married work_type Residence_type smoking_status\n",
       "count    15304        15304     15304          15304          15304\n",
       "unique       3            2         5              2              4\n",
       "top     Female          Yes   Private          Rural   never smoked\n",
       "freq      9446        10385      9752           7664           6281"
      ]
     },
     "execution_count": 12,
     "metadata": {},
     "output_type": "execute_result"
    }
   ],
   "source": [
    "# object type data 정보\n",
    "train_df.describe(include='object')"
   ]
  },
  {
   "cell_type": "code",
   "execution_count": 31,
   "id": "802d518b",
   "metadata": {},
   "outputs": [
    {
     "data": {
      "image/png": "[encoded data removed]",
      "text/plain": [
       "<Figure size 3500x400 with 7 Axes>"
      ]
     },
     "metadata": {},
     "output_type": "display_data"
    }
   ],
   "source": [
    "# 범주형 데이터\n",
    "cat_columns = ['gender', 'smoking_status', 'ever_married', 'work_type', 'Residence_type','hypertension', 'heart_disease']\n",
    "            \n",
    "fig, axes = plt.subplots(nrows=1, ncols=7, figsize=(35,4))\n",
    "for i, column in enumerate(cat_columns):\n",
    "    sns.barplot(data=train_df, x=column, y='stroke', ax=axes[i])\n",
    "plt.show()"
   ]
  },
  {
   "cell_type": "code",
   "execution_count": 13,
   "id": "5b4eb7c8",
   "metadata": {},
   "outputs": [
    {
     "data": {
      "text/plain": [
       "Female    9446\n",
       "Male      5857\n",
       "Other        1\n",
       "Name: gender, dtype: int64"
      ]
     },
     "execution_count": 13,
     "metadata": {},
     "output_type": "execute_result"
    }
   ],
   "source": [
    "train_df['gender'].value_counts()"
   ]
  },
  {
   "cell_type": "code",
   "execution_count": 14,
   "id": "cb242c4a",
   "metadata": {},
   "outputs": [],
   "source": [
    "# stroke 환자의 데이터만 보기"
   ]
  },
  {
   "cell_type": "code",
   "execution_count": 15,
   "id": "40d01a2f",
   "metadata": {},
   "outputs": [],
   "source": [
    "#stroke_df = train_df[train_df['stroke']==1]"
   ]
  },
  {
   "cell_type": "code",
   "execution_count": 44,
   "id": "f5c541f7",
   "metadata": {},
   "outputs": [
    {
     "data": {
      "image/png": "[encoded data removed]",
      "text/plain": [
       "<Figure size 2500x400 with 4 Axes>"
      ]
     },
     "metadata": {},
     "output_type": "display_data"
    }
   ],
   "source": [
    "# 범주형 데이터\n",
    "cat_columns = ['gender', 'smoking_status','hypertension', 'heart_disease']\n",
    "            \n",
    "fig, axes = plt.subplots(nrows=1, ncols=4, figsize=(25,4))\n",
    "for i, column in enumerate(cat_columns):\n",
    "    sns.barplot(data=train_df, x=column, y='stroke', ax=axes[i])\n",
    "plt.show()"
   ]
  },
  {
   "cell_type": "markdown",
   "id": "146e98e1",
   "metadata": {},
   "source": [
    "### 데이터 전처리"
   ]
  },
  {
   "cell_type": "code",
   "execution_count": 37,
   "id": "bf38d750",
   "metadata": {},
   "outputs": [],
   "source": [
    "# 특성데이터 분리\n",
    "X_train = train_df.drop('stroke', axis=1)\n",
    "y_train = train_df['stroke']"
   ]
  },
  {
   "cell_type": "markdown",
   "id": "dc9bf8ce",
   "metadata": {},
   "source": [
    "- 수치형 데이터 전처리"
   ]
  },
  {
   "cell_type": "code",
   "execution_count": 5,
   "id": "21beb942",
   "metadata": {},
   "outputs": [],
   "source": [
    "from sklearn.impute import SimpleImputer\n",
    "from sklearn.preprocessing import OneHotEncoder, StandardScaler\n",
    "from sklearn.pipeline import Pipeline"
   ]
  },
  {
   "cell_type": "code",
   "execution_count": 53,
   "id": "c00e8d59",
   "metadata": {},
   "outputs": [
    {
     "data": {
      "text/plain": [
       "Index(['id', 'age', 'hypertension', 'heart_disease', 'avg_glucose_level',\n",
       "       'bmi', 'stroke'],\n",
       "      dtype='object')"
      ]
     },
     "execution_count": 53,
     "metadata": {},
     "output_type": "execute_result"
    }
   ],
   "source": [
    "# 수치형 데이터만 준비\n",
    "# train_num = train_df.select_dtypes(include=[np.number])\n",
    "# train_num.columns"
   ]
  },
  {
   "cell_type": "code",
   "execution_count": 14,
   "id": "cad1ada4",
   "metadata": {},
   "outputs": [
    {
     "name": "stdout",
     "output_type": "stream",
     "text": [
      "<class 'pandas.core.frame.DataFrame'>\n",
      "RangeIndex: 15304 entries, 0 to 15303\n",
      "Data columns (total 12 columns):\n",
      " #   Column             Non-Null Count  Dtype \n",
      "---  ------             --------------  ----- \n",
      " 0   id                 15304 non-null  int64 \n",
      " 1   gender             15304 non-null  object\n",
      " 2   age                15304 non-null  int32 \n",
      " 3   hypertension       15304 non-null  int64 \n",
      " 4   heart_disease      15304 non-null  int64 \n",
      " 5   ever_married       15304 non-null  object\n",
      " 6   work_type          15304 non-null  object\n",
      " 7   Residence_type     15304 non-null  object\n",
      " 8   avg_glucose_level  15304 non-null  int32 \n",
      " 9   bmi                15304 non-null  int32 \n",
      " 10  smoking_status     15304 non-null  object\n",
      " 11  stroke             15304 non-null  int64 \n",
      "dtypes: int32(3), int64(4), object(5)\n",
      "memory usage: 1.2+ MB\n"
     ]
    }
   ],
   "source": [
    "# 데이터 타입 바꿔주기\n",
    "train_df = train_df.astype({'age' : 'int' })\n",
    "train_df = train_df.astype({'avg_glucose_level' : 'int' })\n",
    "train_df = train_df.astype({'bmi' : 'int' })\n",
    "train_df.info()"
   ]
  },
  {
   "cell_type": "code",
   "execution_count": 15,
   "id": "404a94d6",
   "metadata": {},
   "outputs": [
    {
     "data": {
      "text/plain": [
       "id                    int64\n",
       "gender               object\n",
       "age                   int32\n",
       "hypertension          int64\n",
       "heart_disease         int64\n",
       "ever_married         object\n",
       "work_type            object\n",
       "Residence_type       object\n",
       "avg_glucose_level     int32\n",
       "bmi                   int32\n",
       "smoking_status       object\n",
       "stroke                int64\n",
       "dtype: object"
      ]
     },
     "execution_count": 15,
     "metadata": {},
     "output_type": "execute_result"
    }
   ],
   "source": [
    "train_df.dtypes"
   ]
  },
  {
   "cell_type": "code",
   "execution_count": 16,
   "id": "8c861d05",
   "metadata": {},
   "outputs": [],
   "source": [
    "train_num = train_df[['age','avg_glucose_level','bmi']]"
   ]
  },
  {
   "cell_type": "code",
   "execution_count": 17,
   "id": "ba223a5c",
   "metadata": {},
   "outputs": [
    {
     "data": {
      "text/plain": [
       "(array([-1.41374976e-16, -1.30464263e-16, -1.39285690e-17]),\n",
       " array([1., 1., 1.]))"
      ]
     },
     "execution_count": 17,
     "metadata": {},
     "output_type": "execute_result"
    }
   ],
   "source": [
    "# 특이값이 많으므로 정규화는 적절하지 않다고 판단, 수치형 데이터에 모두 표준화 적용\n",
    "std_scaler = StandardScaler()\n",
    "train_num_std = std_scaler.fit_transform(train_num)\n",
    "train_num_std.mean(0), train_num_std.std(0)"
   ]
  },
  {
   "cell_type": "code",
   "execution_count": 18,
   "id": "b62aab88",
   "metadata": {},
   "outputs": [],
   "source": [
    "# 특이값이 많고 꼬리가 긴 형태인 컬럼('avg_glucose_level','bmi')은 로그 변환 적용\n",
    "from sklearn.preprocessing import FunctionTransformer\n",
    "log_num = train_df[['avg_glucose_level','bmi']]\n",
    "\n",
    "log_transformer = FunctionTransformer(np.log1p)\n",
    "log_train = log_transformer.fit_transform(log_num)"
   ]
  },
  {
   "cell_type": "markdown",
   "id": "2ff38d41",
   "metadata": {},
   "source": [
    "- 파이프라인 만들기"
   ]
  },
  {
   "cell_type": "code",
   "execution_count": 19,
   "id": "e810b74d",
   "metadata": {},
   "outputs": [],
   "source": [
    "# 로그 파이프라인\n",
    "log_attribs = log_num.columns\n",
    "\n",
    "log_pipeline = Pipeline([\n",
    "                        (\"log_transfomer\", FunctionTransformer(np.log1p)),  # 로그 변환\n",
    "                        (\"std_scaler\", StandardScaler())   # 표준화\n",
    "                              ])"
   ]
  },
  {
   "cell_type": "markdown",
   "id": "9dc89256",
   "metadata": {},
   "source": [
    "- 범주형 데이터 전처리"
   ]
  },
  {
   "cell_type": "code",
   "execution_count": 3,
   "id": "1efdf8b9",
   "metadata": {
    "scrolled": true
   },
   "outputs": [
    {
     "data": {
      "text/html": [
       "<div>\n",
       "<style scoped>\n",
       "    .dataframe tbody tr th:only-of-type {\n",
       "        vertical-align: middle;\n",
       "    }\n",
       "\n",
       "    .dataframe tbody tr th {\n",
       "        vertical-align: top;\n",
       "    }\n",
       "\n",
       "    .dataframe thead th {\n",
       "        text-align: right;\n",
       "    }\n",
       "</style>\n",
       "<table border=\"1\" class=\"dataframe\">\n",
       "  <thead>\n",
       "    <tr style=\"text-align: right;\">\n",
       "      <th></th>\n",
       "      <th>id</th>\n",
       "      <th>gender</th>\n",
       "      <th>age</th>\n",
       "      <th>hypertension</th>\n",
       "      <th>heart_disease</th>\n",
       "      <th>ever_married</th>\n",
       "      <th>work_type</th>\n",
       "      <th>Residence_type</th>\n",
       "      <th>avg_glucose_level</th>\n",
       "      <th>bmi</th>\n",
       "      <th>smoking_status</th>\n",
       "      <th>stroke</th>\n",
       "    </tr>\n",
       "  </thead>\n",
       "  <tbody>\n",
       "    <tr>\n",
       "      <th>0</th>\n",
       "      <td>0</td>\n",
       "      <td>Male</td>\n",
       "      <td>28.0</td>\n",
       "      <td>0</td>\n",
       "      <td>0</td>\n",
       "      <td>Yes</td>\n",
       "      <td>Private</td>\n",
       "      <td>Urban</td>\n",
       "      <td>79.53</td>\n",
       "      <td>31.1</td>\n",
       "      <td>never smoked</td>\n",
       "      <td>0</td>\n",
       "    </tr>\n",
       "    <tr>\n",
       "      <th>1</th>\n",
       "      <td>1</td>\n",
       "      <td>Male</td>\n",
       "      <td>33.0</td>\n",
       "      <td>0</td>\n",
       "      <td>0</td>\n",
       "      <td>Yes</td>\n",
       "      <td>Private</td>\n",
       "      <td>Rural</td>\n",
       "      <td>78.44</td>\n",
       "      <td>23.9</td>\n",
       "      <td>formerly smoked</td>\n",
       "      <td>0</td>\n",
       "    </tr>\n",
       "    <tr>\n",
       "      <th>2</th>\n",
       "      <td>2</td>\n",
       "      <td>Female</td>\n",
       "      <td>42.0</td>\n",
       "      <td>0</td>\n",
       "      <td>0</td>\n",
       "      <td>Yes</td>\n",
       "      <td>Private</td>\n",
       "      <td>Rural</td>\n",
       "      <td>103.00</td>\n",
       "      <td>40.3</td>\n",
       "      <td>Unknown</td>\n",
       "      <td>0</td>\n",
       "    </tr>\n",
       "    <tr>\n",
       "      <th>3</th>\n",
       "      <td>3</td>\n",
       "      <td>Male</td>\n",
       "      <td>56.0</td>\n",
       "      <td>0</td>\n",
       "      <td>0</td>\n",
       "      <td>Yes</td>\n",
       "      <td>Private</td>\n",
       "      <td>Urban</td>\n",
       "      <td>64.87</td>\n",
       "      <td>28.8</td>\n",
       "      <td>never smoked</td>\n",
       "      <td>0</td>\n",
       "    </tr>\n",
       "    <tr>\n",
       "      <th>4</th>\n",
       "      <td>4</td>\n",
       "      <td>Female</td>\n",
       "      <td>24.0</td>\n",
       "      <td>0</td>\n",
       "      <td>0</td>\n",
       "      <td>No</td>\n",
       "      <td>Private</td>\n",
       "      <td>Rural</td>\n",
       "      <td>73.36</td>\n",
       "      <td>28.8</td>\n",
       "      <td>never smoked</td>\n",
       "      <td>0</td>\n",
       "    </tr>\n",
       "    <tr>\n",
       "      <th>...</th>\n",
       "      <td>...</td>\n",
       "      <td>...</td>\n",
       "      <td>...</td>\n",
       "      <td>...</td>\n",
       "      <td>...</td>\n",
       "      <td>...</td>\n",
       "      <td>...</td>\n",
       "      <td>...</td>\n",
       "      <td>...</td>\n",
       "      <td>...</td>\n",
       "      <td>...</td>\n",
       "      <td>...</td>\n",
       "    </tr>\n",
       "    <tr>\n",
       "      <th>15299</th>\n",
       "      <td>15299</td>\n",
       "      <td>Female</td>\n",
       "      <td>22.0</td>\n",
       "      <td>0</td>\n",
       "      <td>0</td>\n",
       "      <td>No</td>\n",
       "      <td>Govt_job</td>\n",
       "      <td>Urban</td>\n",
       "      <td>72.63</td>\n",
       "      <td>19.5</td>\n",
       "      <td>never smoked</td>\n",
       "      <td>0</td>\n",
       "    </tr>\n",
       "    <tr>\n",
       "      <th>15300</th>\n",
       "      <td>15300</td>\n",
       "      <td>Female</td>\n",
       "      <td>46.0</td>\n",
       "      <td>1</td>\n",
       "      <td>0</td>\n",
       "      <td>Yes</td>\n",
       "      <td>Private</td>\n",
       "      <td>Urban</td>\n",
       "      <td>101.19</td>\n",
       "      <td>32.1</td>\n",
       "      <td>never smoked</td>\n",
       "      <td>0</td>\n",
       "    </tr>\n",
       "    <tr>\n",
       "      <th>15301</th>\n",
       "      <td>15301</td>\n",
       "      <td>Female</td>\n",
       "      <td>75.0</td>\n",
       "      <td>0</td>\n",
       "      <td>0</td>\n",
       "      <td>Yes</td>\n",
       "      <td>Self-employed</td>\n",
       "      <td>Urban</td>\n",
       "      <td>87.69</td>\n",
       "      <td>26.2</td>\n",
       "      <td>never smoked</td>\n",
       "      <td>0</td>\n",
       "    </tr>\n",
       "    <tr>\n",
       "      <th>15302</th>\n",
       "      <td>15302</td>\n",
       "      <td>Male</td>\n",
       "      <td>46.0</td>\n",
       "      <td>0</td>\n",
       "      <td>0</td>\n",
       "      <td>Yes</td>\n",
       "      <td>Private</td>\n",
       "      <td>Rural</td>\n",
       "      <td>101.13</td>\n",
       "      <td>22.5</td>\n",
       "      <td>Unknown</td>\n",
       "      <td>0</td>\n",
       "    </tr>\n",
       "    <tr>\n",
       "      <th>15303</th>\n",
       "      <td>15303</td>\n",
       "      <td>Female</td>\n",
       "      <td>14.0</td>\n",
       "      <td>0</td>\n",
       "      <td>0</td>\n",
       "      <td>No</td>\n",
       "      <td>Private</td>\n",
       "      <td>Rural</td>\n",
       "      <td>85.12</td>\n",
       "      <td>24.7</td>\n",
       "      <td>never smoked</td>\n",
       "      <td>0</td>\n",
       "    </tr>\n",
       "  </tbody>\n",
       "</table>\n",
       "<p>15304 rows × 12 columns</p>\n",
       "</div>"
      ],
      "text/plain": [
       "          id  gender   age  hypertension  heart_disease ever_married  \\\n",
       "0          0    Male  28.0             0              0          Yes   \n",
       "1          1    Male  33.0             0              0          Yes   \n",
       "2          2  Female  42.0             0              0          Yes   \n",
       "3          3    Male  56.0             0              0          Yes   \n",
       "4          4  Female  24.0             0              0           No   \n",
       "...      ...     ...   ...           ...            ...          ...   \n",
       "15299  15299  Female  22.0             0              0           No   \n",
       "15300  15300  Female  46.0             1              0          Yes   \n",
       "15301  15301  Female  75.0             0              0          Yes   \n",
       "15302  15302    Male  46.0             0              0          Yes   \n",
       "15303  15303  Female  14.0             0              0           No   \n",
       "\n",
       "           work_type Residence_type  avg_glucose_level   bmi   smoking_status  \\\n",
       "0            Private          Urban              79.53  31.1     never smoked   \n",
       "1            Private          Rural              78.44  23.9  formerly smoked   \n",
       "2            Private          Rural             103.00  40.3          Unknown   \n",
       "3            Private          Urban              64.87  28.8     never smoked   \n",
       "4            Private          Rural              73.36  28.8     never smoked   \n",
       "...              ...            ...                ...   ...              ...   \n",
       "15299       Govt_job          Urban              72.63  19.5     never smoked   \n",
       "15300        Private          Urban             101.19  32.1     never smoked   \n",
       "15301  Self-employed          Urban              87.69  26.2     never smoked   \n",
       "15302        Private          Rural             101.13  22.5          Unknown   \n",
       "15303        Private          Rural              85.12  24.7     never smoked   \n",
       "\n",
       "       stroke  \n",
       "0           0  \n",
       "1           0  \n",
       "2           0  \n",
       "3           0  \n",
       "4           0  \n",
       "...       ...  \n",
       "15299       0  \n",
       "15300       0  \n",
       "15301       0  \n",
       "15302       0  \n",
       "15303       0  \n",
       "\n",
       "[15304 rows x 12 columns]"
      ]
     },
     "execution_count": 3,
     "metadata": {},
     "output_type": "execute_result"
    }
   ],
   "source": [
    "train_df"
   ]
  },
  {
   "cell_type": "code",
   "execution_count": 26,
   "id": "3f392834",
   "metadata": {},
   "outputs": [
    {
     "data": {
      "text/plain": [
       "array([[0., 1., 0., ..., 0., 1., 0.],\n",
       "       [0., 1., 0., ..., 1., 0., 0.],\n",
       "       [1., 0., 0., ..., 0., 0., 0.],\n",
       "       ...,\n",
       "       [1., 0., 0., ..., 0., 1., 0.],\n",
       "       [0., 1., 0., ..., 0., 0., 0.],\n",
       "       [1., 0., 0., ..., 0., 1., 0.]])"
      ]
     },
     "execution_count": 26,
     "metadata": {},
     "output_type": "execute_result"
    }
   ],
   "source": [
    "#  one hot 인코딩\n",
    "train_cat = train_df[['gender', 'ever_married', 'work_type', 'Residence_type','smoking_status']]\n",
    "\n",
    "onehot_encoder = OneHotEncoder(sparse=False)\n",
    "onehot_encoder.fit_transform(train_cat)　"
   ]
  },
  {
   "cell_type": "code",
   "execution_count": 32,
   "id": "a01f5b63",
   "metadata": {},
   "outputs": [
    {
     "data": {
      "text/plain": [
       "[array(['Female', 'Male', 'Other'], dtype=object),\n",
       " array(['No', 'Yes'], dtype=object),\n",
       " array(['Govt_job', 'Never_worked', 'Private', 'Self-employed', 'children'],\n",
       "       dtype=object),\n",
       " array(['Rural', 'Urban'], dtype=object),\n",
       " array(['Unknown', 'formerly smoked', 'never smoked', 'smokes'],\n",
       "       dtype=object)]"
      ]
     },
     "execution_count": 32,
     "metadata": {},
     "output_type": "execute_result"
    }
   ],
   "source": [
    "onehot_encoder.categories_"
   ]
  },
  {
   "cell_type": "code",
   "execution_count": 12,
   "id": "de6acc1d",
   "metadata": {},
   "outputs": [
    {
     "data": {
      "text/plain": [
       "Index(['id', 'gender', 'age', 'hypertension', 'heart_disease', 'ever_married',\n",
       "       'work_type', 'Residence_type', 'avg_glucose_level', 'bmi',\n",
       "       'smoking_status'],\n",
       "      dtype='object')"
      ]
     },
     "execution_count": 12,
     "metadata": {},
     "output_type": "execute_result"
    }
   ],
   "source": [
    "X_train.columns"
   ]
  },
  {
   "cell_type": "code",
   "execution_count": 22,
   "id": "ed630cd2",
   "metadata": {},
   "outputs": [],
   "source": [
    "# full pipeline\n",
    "from sklearn.compose import ColumnTransformer\n",
    "\n",
    "log_attribs = ['avg_glucose_level','bmi']\n",
    "std_attribs = ['age']\n",
    "cat_attribs = ['gender', 'ever_married', 'work_type', 'Residence_type','smoking_status']\n",
    "\n",
    "full_pipeline = ColumnTransformer([\n",
    "                                   ('log_pipeline', log_pipeline, log_attribs),  \n",
    "                                   ('std_pipeline', StandardScaler(), std_attribs),\n",
    "                                   ('oh_encoder', OneHotEncoder(), cat_attribs), \n",
    "                                   ('pass', 'passthrough', ['id','hypertension', 'heart_disease'])\n",
    "                                  ])"
   ]
  },
  {
   "cell_type": "code",
   "execution_count": 23,
   "id": "fdc2aada",
   "metadata": {},
   "outputs": [],
   "source": [
    "from sklearn import set_config\n",
    "set_config(display='diagram')"
   ]
  },
  {
   "cell_type": "code",
   "execution_count": 27,
   "id": "3c09dedd",
   "metadata": {},
   "outputs": [
    {
     "data": {
      "text/html": [
       "<style>#sk-72338b79-2561-46d8-a71c-679bfb7e685d {color: black;background-color: white;}#sk-72338b79-2561-46d8-a71c-679bfb7e685d pre{padding: 0;}#sk-72338b79-2561-46d8-a71c-679bfb7e685d div.sk-toggleable {background-color: white;}#sk-72338b79-2561-46d8-a71c-679bfb7e685d label.sk-toggleable__label {cursor: pointer;display: block;width: 100%;margin-bottom: 0;padding: 0.3em;box-sizing: border-box;text-align: center;}#sk-72338b79-2561-46d8-a71c-679bfb7e685d label.sk-toggleable__label-arrow:before {content: \"▸\";float: left;margin-right: 0.25em;color: #696969;}#sk-72338b79-2561-46d8-a71c-679bfb7e685d label.sk-toggleable__label-arrow:hover:before {color: black;}#sk-72338b79-2561-46d8-a71c-679bfb7e685d div.sk-estimator:hover label.sk-toggleable__label-arrow:before {color: black;}#sk-72338b79-2561-46d8-a71c-679bfb7e685d div.sk-toggleable__content {max-height: 0;max-width: 0;overflow: hidden;text-align: left;background-color: #f0f8ff;}#sk-72338b79-2561-46d8-a71c-679bfb7e685d div.sk-toggleable__content pre {margin: 0.2em;color: black;border-radius: 0.25em;background-color: #f0f8ff;}#sk-72338b79-2561-46d8-a71c-679bfb7e685d input.sk-toggleable__control:checked~div.sk-toggleable__content {max-height: 200px;max-width: 100%;overflow: auto;}#sk-72338b79-2561-46d8-a71c-679bfb7e685d input.sk-toggleable__control:checked~label.sk-toggleable__label-arrow:before {content: \"▾\";}#sk-72338b79-2561-46d8-a71c-679bfb7e685d div.sk-estimator input.sk-toggleable__control:checked~label.sk-toggleable__label {background-color: #d4ebff;}#sk-72338b79-2561-46d8-a71c-679bfb7e685d div.sk-label input.sk-toggleable__control:checked~label.sk-toggleable__label {background-color: #d4ebff;}#sk-72338b79-2561-46d8-a71c-679bfb7e685d input.sk-hidden--visually {border: 0;clip: rect(1px 1px 1px 1px);clip: rect(1px, 1px, 1px, 1px);height: 1px;margin: -1px;overflow: hidden;padding: 0;position: absolute;width: 1px;}#sk-72338b79-2561-46d8-a71c-679bfb7e685d div.sk-estimator {font-family: monospace;background-color: #f0f8ff;border: 1px dotted black;border-radius: 0.25em;box-sizing: border-box;margin-bottom: 0.5em;}#sk-72338b79-2561-46d8-a71c-679bfb7e685d div.sk-estimator:hover {background-color: #d4ebff;}#sk-72338b79-2561-46d8-a71c-679bfb7e685d div.sk-parallel-item::after {content: \"\";width: 100%;border-bottom: 1px solid gray;flex-grow: 1;}#sk-72338b79-2561-46d8-a71c-679bfb7e685d div.sk-label:hover label.sk-toggleable__label {background-color: #d4ebff;}#sk-72338b79-2561-46d8-a71c-679bfb7e685d div.sk-serial::before {content: \"\";position: absolute;border-left: 1px solid gray;box-sizing: border-box;top: 2em;bottom: 0;left: 50%;}#sk-72338b79-2561-46d8-a71c-679bfb7e685d div.sk-serial {display: flex;flex-direction: column;align-items: center;background-color: white;padding-right: 0.2em;padding-left: 0.2em;}#sk-72338b79-2561-46d8-a71c-679bfb7e685d div.sk-item {z-index: 1;}#sk-72338b79-2561-46d8-a71c-679bfb7e685d div.sk-parallel {display: flex;align-items: stretch;justify-content: center;background-color: white;}#sk-72338b79-2561-46d8-a71c-679bfb7e685d div.sk-parallel::before {content: \"\";position: absolute;border-left: 1px solid gray;box-sizing: border-box;top: 2em;bottom: 0;left: 50%;}#sk-72338b79-2561-46d8-a71c-679bfb7e685d div.sk-parallel-item {display: flex;flex-direction: column;position: relative;background-color: white;}#sk-72338b79-2561-46d8-a71c-679bfb7e685d div.sk-parallel-item:first-child::after {align-self: flex-end;width: 50%;}#sk-72338b79-2561-46d8-a71c-679bfb7e685d div.sk-parallel-item:last-child::after {align-self: flex-start;width: 50%;}#sk-72338b79-2561-46d8-a71c-679bfb7e685d div.sk-parallel-item:only-child::after {width: 0;}#sk-72338b79-2561-46d8-a71c-679bfb7e685d div.sk-dashed-wrapped {border: 1px dashed gray;margin: 0 0.4em 0.5em 0.4em;box-sizing: border-box;padding-bottom: 0.4em;background-color: white;position: relative;}#sk-72338b79-2561-46d8-a71c-679bfb7e685d div.sk-label label {font-family: monospace;font-weight: bold;background-color: white;display: inline-block;line-height: 1.2em;}#sk-72338b79-2561-46d8-a71c-679bfb7e685d div.sk-label-container {position: relative;z-index: 2;text-align: center;}#sk-72338b79-2561-46d8-a71c-679bfb7e685d div.sk-container {/* jupyter's `normalize.less` sets `[hidden] { display: none; }` but bootstrap.min.css set `[hidden] { display: none !important; }` so we also need the `!important` here to be able to override the default hidden behavior on the sphinx rendered scikit-learn.org. See: https://github.com/scikit-learn/scikit-learn/issues/21755 */display: inline-block !important;position: relative;}#sk-72338b79-2561-46d8-a71c-679bfb7e685d div.sk-text-repr-fallback {display: none;}</style><div id=\"sk-72338b79-2561-46d8-a71c-679bfb7e685d\" class=\"sk-top-container\"><div class=\"sk-text-repr-fallback\"><pre>ColumnTransformer(transformers=[(&#x27;log_pipeline&#x27;,\n",
       "                                 Pipeline(steps=[(&#x27;log_transfomer&#x27;,\n",
       "                                                  FunctionTransformer(func=&lt;ufunc &#x27;log1p&#x27;&gt;)),\n",
       "                                                 (&#x27;std_scaler&#x27;,\n",
       "                                                  StandardScaler())]),\n",
       "                                 [&#x27;avg_glucose_level&#x27;, &#x27;bmi&#x27;]),\n",
       "                                (&#x27;std_pipeline&#x27;, StandardScaler(), [&#x27;age&#x27;]),\n",
       "                                (&#x27;oh_encoder&#x27;, OneHotEncoder(),\n",
       "                                 [&#x27;gender&#x27;, &#x27;ever_married&#x27;, &#x27;work_type&#x27;,\n",
       "                                  &#x27;Residence_type&#x27;, &#x27;smoking_status&#x27;]),\n",
       "                                (&#x27;pass&#x27;, &#x27;passthrough&#x27;,\n",
       "                                 [&#x27;id&#x27;, &#x27;hypertension&#x27;, &#x27;heart_disease&#x27;])])</pre><b>Please rerun this cell to show the HTML repr or trust the notebook.</b></div><div class=\"sk-container\" hidden><div class=\"sk-item sk-dashed-wrapped\"><div class=\"sk-label-container\"><div class=\"sk-label sk-toggleable\"><input class=\"sk-toggleable__control sk-hidden--visually\" id=\"8df70f97-35f2-41df-bfa8-a648ebf8ef89\" type=\"checkbox\" ><label for=\"8df70f97-35f2-41df-bfa8-a648ebf8ef89\" class=\"sk-toggleable__label sk-toggleable__label-arrow\">ColumnTransformer</label><div class=\"sk-toggleable__content\"><pre>ColumnTransformer(transformers=[(&#x27;log_pipeline&#x27;,\n",
       "                                 Pipeline(steps=[(&#x27;log_transfomer&#x27;,\n",
       "                                                  FunctionTransformer(func=&lt;ufunc &#x27;log1p&#x27;&gt;)),\n",
       "                                                 (&#x27;std_scaler&#x27;,\n",
       "                                                  StandardScaler())]),\n",
       "                                 [&#x27;avg_glucose_level&#x27;, &#x27;bmi&#x27;]),\n",
       "                                (&#x27;std_pipeline&#x27;, StandardScaler(), [&#x27;age&#x27;]),\n",
       "                                (&#x27;oh_encoder&#x27;, OneHotEncoder(),\n",
       "                                 [&#x27;gender&#x27;, &#x27;ever_married&#x27;, &#x27;work_type&#x27;,\n",
       "                                  &#x27;Residence_type&#x27;, &#x27;smoking_status&#x27;]),\n",
       "                                (&#x27;pass&#x27;, &#x27;passthrough&#x27;,\n",
       "                                 [&#x27;id&#x27;, &#x27;hypertension&#x27;, &#x27;heart_disease&#x27;])])</pre></div></div></div><div class=\"sk-parallel\"><div class=\"sk-parallel-item\"><div class=\"sk-item\"><div class=\"sk-label-container\"><div class=\"sk-label sk-toggleable\"><input class=\"sk-toggleable__control sk-hidden--visually\" id=\"32deab49-0ff4-477b-8342-312f6a3529cb\" type=\"checkbox\" ><label for=\"32deab49-0ff4-477b-8342-312f6a3529cb\" class=\"sk-toggleable__label sk-toggleable__label-arrow\">log_pipeline</label><div class=\"sk-toggleable__content\"><pre>[&#x27;avg_glucose_level&#x27;, &#x27;bmi&#x27;]</pre></div></div></div><div class=\"sk-serial\"><div class=\"sk-item\"><div class=\"sk-serial\"><div class=\"sk-item\"><div class=\"sk-estimator sk-toggleable\"><input class=\"sk-toggleable__control sk-hidden--visually\" id=\"22a2c3bc-c07e-43fc-8efa-629c52b07cf7\" type=\"checkbox\" ><label for=\"22a2c3bc-c07e-43fc-8efa-629c52b07cf7\" class=\"sk-toggleable__label sk-toggleable__label-arrow\">FunctionTransformer</label><div class=\"sk-toggleable__content\"><pre>FunctionTransformer(func=&lt;ufunc &#x27;log1p&#x27;&gt;)</pre></div></div></div><div class=\"sk-item\"><div class=\"sk-estimator sk-toggleable\"><input class=\"sk-toggleable__control sk-hidden--visually\" id=\"af572ad1-a7ad-44aa-9b94-b769250aa9f0\" type=\"checkbox\" ><label for=\"af572ad1-a7ad-44aa-9b94-b769250aa9f0\" class=\"sk-toggleable__label sk-toggleable__label-arrow\">StandardScaler</label><div class=\"sk-toggleable__content\"><pre>StandardScaler()</pre></div></div></div></div></div></div></div></div><div class=\"sk-parallel-item\"><div class=\"sk-item\"><div class=\"sk-label-container\"><div class=\"sk-label sk-toggleable\"><input class=\"sk-toggleable__control sk-hidden--visually\" id=\"6d1ddfd0-3948-4b42-a19e-1f159721f872\" type=\"checkbox\" ><label for=\"6d1ddfd0-3948-4b42-a19e-1f159721f872\" class=\"sk-toggleable__label sk-toggleable__label-arrow\">std_pipeline</label><div class=\"sk-toggleable__content\"><pre>[&#x27;age&#x27;]</pre></div></div></div><div class=\"sk-serial\"><div class=\"sk-item\"><div class=\"sk-estimator sk-toggleable\"><input class=\"sk-toggleable__control sk-hidden--visually\" id=\"5526bfb7-f21d-45fa-bb4f-202063efa5ba\" type=\"checkbox\" ><label for=\"5526bfb7-f21d-45fa-bb4f-202063efa5ba\" class=\"sk-toggleable__label sk-toggleable__label-arrow\">StandardScaler</label><div class=\"sk-toggleable__content\"><pre>StandardScaler()</pre></div></div></div></div></div></div><div class=\"sk-parallel-item\"><div class=\"sk-item\"><div class=\"sk-label-container\"><div class=\"sk-label sk-toggleable\"><input class=\"sk-toggleable__control sk-hidden--visually\" id=\"a09a8735-7d52-446c-9677-d4b581c44cd2\" type=\"checkbox\" ><label for=\"a09a8735-7d52-446c-9677-d4b581c44cd2\" class=\"sk-toggleable__label sk-toggleable__label-arrow\">oh_encoder</label><div class=\"sk-toggleable__content\"><pre>[&#x27;gender&#x27;, &#x27;ever_married&#x27;, &#x27;work_type&#x27;, &#x27;Residence_type&#x27;, &#x27;smoking_status&#x27;]</pre></div></div></div><div class=\"sk-serial\"><div class=\"sk-item\"><div class=\"sk-estimator sk-toggleable\"><input class=\"sk-toggleable__control sk-hidden--visually\" id=\"804a977f-ff53-4895-b2f9-8c763cbebe1a\" type=\"checkbox\" ><label for=\"804a977f-ff53-4895-b2f9-8c763cbebe1a\" class=\"sk-toggleable__label sk-toggleable__label-arrow\">OneHotEncoder</label><div class=\"sk-toggleable__content\"><pre>OneHotEncoder()</pre></div></div></div></div></div></div><div class=\"sk-parallel-item\"><div class=\"sk-item\"><div class=\"sk-label-container\"><div class=\"sk-label sk-toggleable\"><input class=\"sk-toggleable__control sk-hidden--visually\" id=\"0eb2e3cd-1fe8-43e9-abcc-f3ac09e8b3b8\" type=\"checkbox\" ><label for=\"0eb2e3cd-1fe8-43e9-abcc-f3ac09e8b3b8\" class=\"sk-toggleable__label sk-toggleable__label-arrow\">pass</label><div class=\"sk-toggleable__content\"><pre>[&#x27;id&#x27;, &#x27;hypertension&#x27;, &#x27;heart_disease&#x27;]</pre></div></div></div><div class=\"sk-serial\"><div class=\"sk-item\"><div class=\"sk-estimator sk-toggleable\"><input class=\"sk-toggleable__control sk-hidden--visually\" id=\"189b2982-ef4a-4978-8bf9-c4d874879750\" type=\"checkbox\" ><label for=\"189b2982-ef4a-4978-8bf9-c4d874879750\" class=\"sk-toggleable__label sk-toggleable__label-arrow\">passthrough</label><div class=\"sk-toggleable__content\"><pre>passthrough</pre></div></div></div></div></div></div></div></div></div></div>"
      ],
      "text/plain": [
       "ColumnTransformer(transformers=[('log_pipeline',\n",
       "                                 Pipeline(steps=[('log_transfomer',\n",
       "                                                  FunctionTransformer(func=<ufunc 'log1p'>)),\n",
       "                                                 ('std_scaler',\n",
       "                                                  StandardScaler())]),\n",
       "                                 ['avg_glucose_level', 'bmi']),\n",
       "                                ('std_pipeline', StandardScaler(), ['age']),\n",
       "                                ('oh_encoder', OneHotEncoder(),\n",
       "                                 ['gender', 'ever_married', 'work_type',\n",
       "                                  'Residence_type', 'smoking_status']),\n",
       "                                ('pass', 'passthrough',\n",
       "                                 ['id', 'hypertension', 'heart_disease'])])"
      ]
     },
     "execution_count": 27,
     "metadata": {},
     "output_type": "execute_result"
    }
   ],
   "source": [
    "full_pipeline"
   ]
  },
  {
   "cell_type": "code",
   "execution_count": 28,
   "id": "25c9b0f1",
   "metadata": {},
   "outputs": [],
   "source": [
    "X_prepared = full_pipeline.fit_transform(X＿ｔｒａｉｎ)"
   ]
  },
  {
   "cell_type": "code",
   "execution_count": 29,
   "id": "23bf1172",
   "metadata": {},
   "outputs": [
    {
     "data": {
      "text/plain": [
       "((15304, 11), (15304, 22))"
      ]
     },
     "execution_count": 29,
     "metadata": {},
     "output_type": "execute_result"
    }
   ],
   "source": [
    "X＿ｔｒａｉｎ.shape, X_prepared.shape"
   ]
  },
  {
   "cell_type": "code",
   "execution_count": 33,
   "id": "0f9e730a",
   "metadata": {},
   "outputs": [],
   "source": [
    "from sklearn.linear_model import LinearRegression\n",
    "from sklearn.tree import DecisionTreeRegressor\n",
    "from sklearn.ensemble import RandomForestRegressor\n",
    "from sklearn.model_selection import cross_val_score"
   ]
  },
  {
   "cell_type": "code",
   "execution_count": 34,
   "id": "4517a02d",
   "metadata": {},
   "outputs": [],
   "source": [
    "lin_reg = LinearRegression()\n",
    "tree_reg = DecisionTreeRegressor(random_state=42)\n",
    "rf_reg = RandomForestRegressor(random_state=42)"
   ]
  },
  {
   "cell_type": "code",
   "execution_count": 44,
   "id": "cd07c4d4",
   "metadata": {},
   "outputs": [
    {
     "data": {
      "text/plain": [
       "0.18870614721660273"
      ]
     },
     "execution_count": 44,
     "metadata": {},
     "output_type": "execute_result"
    }
   ],
   "source": [
    "# LinearRegression 교차검증\n",
    "lin_scores = cross_val_score(lin_reg, X_prepared, y_train, scoring=\"neg_mean_squared_error\", cv=10, n_jobs=-1)\n",
    "lin_rmse = np.sqrt(-lin_scores.mean())\n",
    "lin_rmse"
   ]
  },
  {
   "cell_type": "code",
   "execution_count": 39,
   "id": "d87c3c78",
   "metadata": {},
   "outputs": [
    {
     "data": {
      "text/plain": [
       "0.27160919254003335"
      ]
     },
     "execution_count": 39,
     "metadata": {},
     "output_type": "execute_result"
    }
   ],
   "source": [
    "# DecisionTree 교차검증\n",
    "tree_scores = cross_val_score(tree_reg, X_prepared, y_train, scoring=\"neg_mean_squared_error\", cv=10, n_jobs=-1)\n",
    "tree_rmse = np.sqrt(-tree_scores.mean())\n",
    "tree_rmse"
   ]
  },
  {
   "cell_type": "code",
   "execution_count": 40,
   "id": "3d2497ba",
   "metadata": {},
   "outputs": [
    {
     "data": {
      "text/plain": [
       "0.19209389122416318"
      ]
     },
     "execution_count": 40,
     "metadata": {},
     "output_type": "execute_result"
    }
   ],
   "source": [
    "# RandomForest 교차검증\n",
    "rf_scores = cross_val_score(rf_reg, X_prepared, y_train, scoring=\"neg_mean_squared_error\", cv=10, n_jobs=-1)\n",
    "rf_rmse = np.sqrt(-rf_scores.mean())\n",
    "rf_rmse"
   ]
  },
  {
   "cell_type": "markdown",
   "id": "8281591a",
   "metadata": {},
   "source": [
    "# 모델 세부 튜닝"
   ]
  },
  {
   "cell_type": "markdown",
   "id": "0b9f11a9",
   "metadata": {},
   "source": [
    "그리드 탐색"
   ]
  },
  {
   "cell_type": "code",
   "execution_count": 42,
   "id": "c670e6fa",
   "metadata": {},
   "outputs": [
    {
     "name": "stdout",
     "output_type": "stream",
     "text": [
      "Wall time: 10.1 s\n"
     ]
    },
    {
     "data": {
      "text/html": [
       "<style>#sk-0463d23f-793d-4e6e-8315-4e8437d41af7 {color: black;background-color: white;}#sk-0463d23f-793d-4e6e-8315-4e8437d41af7 pre{padding: 0;}#sk-0463d23f-793d-4e6e-8315-4e8437d41af7 div.sk-toggleable {background-color: white;}#sk-0463d23f-793d-4e6e-8315-4e8437d41af7 label.sk-toggleable__label {cursor: pointer;display: block;width: 100%;margin-bottom: 0;padding: 0.3em;box-sizing: border-box;text-align: center;}#sk-0463d23f-793d-4e6e-8315-4e8437d41af7 label.sk-toggleable__label-arrow:before {content: \"▸\";float: left;margin-right: 0.25em;color: #696969;}#sk-0463d23f-793d-4e6e-8315-4e8437d41af7 label.sk-toggleable__label-arrow:hover:before {color: black;}#sk-0463d23f-793d-4e6e-8315-4e8437d41af7 div.sk-estimator:hover label.sk-toggleable__label-arrow:before {color: black;}#sk-0463d23f-793d-4e6e-8315-4e8437d41af7 div.sk-toggleable__content {max-height: 0;max-width: 0;overflow: hidden;text-align: left;background-color: #f0f8ff;}#sk-0463d23f-793d-4e6e-8315-4e8437d41af7 div.sk-toggleable__content pre {margin: 0.2em;color: black;border-radius: 0.25em;background-color: #f0f8ff;}#sk-0463d23f-793d-4e6e-8315-4e8437d41af7 input.sk-toggleable__control:checked~div.sk-toggleable__content {max-height: 200px;max-width: 100%;overflow: auto;}#sk-0463d23f-793d-4e6e-8315-4e8437d41af7 input.sk-toggleable__control:checked~label.sk-toggleable__label-arrow:before {content: \"▾\";}#sk-0463d23f-793d-4e6e-8315-4e8437d41af7 div.sk-estimator input.sk-toggleable__control:checked~label.sk-toggleable__label {background-color: #d4ebff;}#sk-0463d23f-793d-4e6e-8315-4e8437d41af7 div.sk-label input.sk-toggleable__control:checked~label.sk-toggleable__label {background-color: #d4ebff;}#sk-0463d23f-793d-4e6e-8315-4e8437d41af7 input.sk-hidden--visually {border: 0;clip: rect(1px 1px 1px 1px);clip: rect(1px, 1px, 1px, 1px);height: 1px;margin: -1px;overflow: hidden;padding: 0;position: absolute;width: 1px;}#sk-0463d23f-793d-4e6e-8315-4e8437d41af7 div.sk-estimator {font-family: monospace;background-color: #f0f8ff;border: 1px dotted black;border-radius: 0.25em;box-sizing: border-box;margin-bottom: 0.5em;}#sk-0463d23f-793d-4e6e-8315-4e8437d41af7 div.sk-estimator:hover {background-color: #d4ebff;}#sk-0463d23f-793d-4e6e-8315-4e8437d41af7 div.sk-parallel-item::after {content: \"\";width: 100%;border-bottom: 1px solid gray;flex-grow: 1;}#sk-0463d23f-793d-4e6e-8315-4e8437d41af7 div.sk-label:hover label.sk-toggleable__label {background-color: #d4ebff;}#sk-0463d23f-793d-4e6e-8315-4e8437d41af7 div.sk-serial::before {content: \"\";position: absolute;border-left: 1px solid gray;box-sizing: border-box;top: 2em;bottom: 0;left: 50%;}#sk-0463d23f-793d-4e6e-8315-4e8437d41af7 div.sk-serial {display: flex;flex-direction: column;align-items: center;background-color: white;padding-right: 0.2em;padding-left: 0.2em;}#sk-0463d23f-793d-4e6e-8315-4e8437d41af7 div.sk-item {z-index: 1;}#sk-0463d23f-793d-4e6e-8315-4e8437d41af7 div.sk-parallel {display: flex;align-items: stretch;justify-content: center;background-color: white;}#sk-0463d23f-793d-4e6e-8315-4e8437d41af7 div.sk-parallel::before {content: \"\";position: absolute;border-left: 1px solid gray;box-sizing: border-box;top: 2em;bottom: 0;left: 50%;}#sk-0463d23f-793d-4e6e-8315-4e8437d41af7 div.sk-parallel-item {display: flex;flex-direction: column;position: relative;background-color: white;}#sk-0463d23f-793d-4e6e-8315-4e8437d41af7 div.sk-parallel-item:first-child::after {align-self: flex-end;width: 50%;}#sk-0463d23f-793d-4e6e-8315-4e8437d41af7 div.sk-parallel-item:last-child::after {align-self: flex-start;width: 50%;}#sk-0463d23f-793d-4e6e-8315-4e8437d41af7 div.sk-parallel-item:only-child::after {width: 0;}#sk-0463d23f-793d-4e6e-8315-4e8437d41af7 div.sk-dashed-wrapped {border: 1px dashed gray;margin: 0 0.4em 0.5em 0.4em;box-sizing: border-box;padding-bottom: 0.4em;background-color: white;position: relative;}#sk-0463d23f-793d-4e6e-8315-4e8437d41af7 div.sk-label label {font-family: monospace;font-weight: bold;background-color: white;display: inline-block;line-height: 1.2em;}#sk-0463d23f-793d-4e6e-8315-4e8437d41af7 div.sk-label-container {position: relative;z-index: 2;text-align: center;}#sk-0463d23f-793d-4e6e-8315-4e8437d41af7 div.sk-container {/* jupyter's `normalize.less` sets `[hidden] { display: none; }` but bootstrap.min.css set `[hidden] { display: none !important; }` so we also need the `!important` here to be able to override the default hidden behavior on the sphinx rendered scikit-learn.org. See: https://github.com/scikit-learn/scikit-learn/issues/21755 */display: inline-block !important;position: relative;}#sk-0463d23f-793d-4e6e-8315-4e8437d41af7 div.sk-text-repr-fallback {display: none;}</style><div id=\"sk-0463d23f-793d-4e6e-8315-4e8437d41af7\" class=\"sk-top-container\"><div class=\"sk-text-repr-fallback\"><pre>GridSearchCV(cv=5, estimator=RandomForestRegressor(random_state=42), n_jobs=-1,\n",
       "             param_grid={&#x27;max_features&#x27;: [2, 4, 6, 8],\n",
       "                         &#x27;n_estimators&#x27;: [30, 50, 100]},\n",
       "             scoring=&#x27;neg_mean_squared_error&#x27;)</pre><b>Please rerun this cell to show the HTML repr or trust the notebook.</b></div><div class=\"sk-container\" hidden><div class=\"sk-item sk-dashed-wrapped\"><div class=\"sk-label-container\"><div class=\"sk-label sk-toggleable\"><input class=\"sk-toggleable__control sk-hidden--visually\" id=\"979fe607-6d38-4e38-a61c-b89a4c1e630a\" type=\"checkbox\" ><label for=\"979fe607-6d38-4e38-a61c-b89a4c1e630a\" class=\"sk-toggleable__label sk-toggleable__label-arrow\">GridSearchCV</label><div class=\"sk-toggleable__content\"><pre>GridSearchCV(cv=5, estimator=RandomForestRegressor(random_state=42), n_jobs=-1,\n",
       "             param_grid={&#x27;max_features&#x27;: [2, 4, 6, 8],\n",
       "                         &#x27;n_estimators&#x27;: [30, 50, 100]},\n",
       "             scoring=&#x27;neg_mean_squared_error&#x27;)</pre></div></div></div><div class=\"sk-parallel\"><div class=\"sk-parallel-item\"><div class=\"sk-item\"><div class=\"sk-serial\"><div class=\"sk-item\"><div class=\"sk-estimator sk-toggleable\"><input class=\"sk-toggleable__control sk-hidden--visually\" id=\"4b5d641e-e085-405e-a4e3-b2e31982f27a\" type=\"checkbox\" ><label for=\"4b5d641e-e085-405e-a4e3-b2e31982f27a\" class=\"sk-toggleable__label sk-toggleable__label-arrow\">RandomForestRegressor</label><div class=\"sk-toggleable__content\"><pre>RandomForestRegressor(random_state=42)</pre></div></div></div></div></div></div></div></div></div></div>"
      ],
      "text/plain": [
       "GridSearchCV(cv=5, estimator=RandomForestRegressor(random_state=42), n_jobs=-1,\n",
       "             param_grid={'max_features': [2, 4, 6, 8],\n",
       "                         'n_estimators': [30, 50, 100]},\n",
       "             scoring='neg_mean_squared_error')"
      ]
     },
     "execution_count": 42,
     "metadata": {},
     "output_type": "execute_result"
    }
   ],
   "source": [
    "from sklearn.model_selection import GridSearchCV\n",
    "\n",
    "rf_reg = RandomForestRegressor(random_state=42)\n",
    "\n",
    "param_grid = {'n_estimators' : [30, 50, 100], 'max_features' : [2, 4, 6, 8]} \n",
    "\n",
    "grid_search = GridSearchCV(rf_reg, param_grid, scoring='neg_mean_squared_error', cv=5, n_jobs=-1) \n",
    "%time grid_search.fit(X_prepared, y_train)"
   ]
  },
  {
   "cell_type": "code",
   "execution_count": 43,
   "id": "2b60e374",
   "metadata": {},
   "outputs": [
    {
     "data": {
      "text/plain": [
       "{'max_features': 6, 'n_estimators': 100}"
      ]
     },
     "execution_count": 43,
     "metadata": {},
     "output_type": "execute_result"
    }
   ],
   "source": [
    "grid_search.best_params_"
   ]
  },
  {
   "cell_type": "code",
   "execution_count": 45,
   "id": "24c39960",
   "metadata": {},
   "outputs": [
    {
     "data": {
      "text/html": [
       "<style>#sk-1b7f84ef-3367-47d0-a92e-4e72be43bac0 {color: black;background-color: white;}#sk-1b7f84ef-3367-47d0-a92e-4e72be43bac0 pre{padding: 0;}#sk-1b7f84ef-3367-47d0-a92e-4e72be43bac0 div.sk-toggleable {background-color: white;}#sk-1b7f84ef-3367-47d0-a92e-4e72be43bac0 label.sk-toggleable__label {cursor: pointer;display: block;width: 100%;margin-bottom: 0;padding: 0.3em;box-sizing: border-box;text-align: center;}#sk-1b7f84ef-3367-47d0-a92e-4e72be43bac0 label.sk-toggleable__label-arrow:before {content: \"▸\";float: left;margin-right: 0.25em;color: #696969;}#sk-1b7f84ef-3367-47d0-a92e-4e72be43bac0 label.sk-toggleable__label-arrow:hover:before {color: black;}#sk-1b7f84ef-3367-47d0-a92e-4e72be43bac0 div.sk-estimator:hover label.sk-toggleable__label-arrow:before {color: black;}#sk-1b7f84ef-3367-47d0-a92e-4e72be43bac0 div.sk-toggleable__content {max-height: 0;max-width: 0;overflow: hidden;text-align: left;background-color: #f0f8ff;}#sk-1b7f84ef-3367-47d0-a92e-4e72be43bac0 div.sk-toggleable__content pre {margin: 0.2em;color: black;border-radius: 0.25em;background-color: #f0f8ff;}#sk-1b7f84ef-3367-47d0-a92e-4e72be43bac0 input.sk-toggleable__control:checked~div.sk-toggleable__content {max-height: 200px;max-width: 100%;overflow: auto;}#sk-1b7f84ef-3367-47d0-a92e-4e72be43bac0 input.sk-toggleable__control:checked~label.sk-toggleable__label-arrow:before {content: \"▾\";}#sk-1b7f84ef-3367-47d0-a92e-4e72be43bac0 div.sk-estimator input.sk-toggleable__control:checked~label.sk-toggleable__label {background-color: #d4ebff;}#sk-1b7f84ef-3367-47d0-a92e-4e72be43bac0 div.sk-label input.sk-toggleable__control:checked~label.sk-toggleable__label {background-color: #d4ebff;}#sk-1b7f84ef-3367-47d0-a92e-4e72be43bac0 input.sk-hidden--visually {border: 0;clip: rect(1px 1px 1px 1px);clip: rect(1px, 1px, 1px, 1px);height: 1px;margin: -1px;overflow: hidden;padding: 0;position: absolute;width: 1px;}#sk-1b7f84ef-3367-47d0-a92e-4e72be43bac0 div.sk-estimator {font-family: monospace;background-color: #f0f8ff;border: 1px dotted black;border-radius: 0.25em;box-sizing: border-box;margin-bottom: 0.5em;}#sk-1b7f84ef-3367-47d0-a92e-4e72be43bac0 div.sk-estimator:hover {background-color: #d4ebff;}#sk-1b7f84ef-3367-47d0-a92e-4e72be43bac0 div.sk-parallel-item::after {content: \"\";width: 100%;border-bottom: 1px solid gray;flex-grow: 1;}#sk-1b7f84ef-3367-47d0-a92e-4e72be43bac0 div.sk-label:hover label.sk-toggleable__label {background-color: #d4ebff;}#sk-1b7f84ef-3367-47d0-a92e-4e72be43bac0 div.sk-serial::before {content: \"\";position: absolute;border-left: 1px solid gray;box-sizing: border-box;top: 2em;bottom: 0;left: 50%;}#sk-1b7f84ef-3367-47d0-a92e-4e72be43bac0 div.sk-serial {display: flex;flex-direction: column;align-items: center;background-color: white;padding-right: 0.2em;padding-left: 0.2em;}#sk-1b7f84ef-3367-47d0-a92e-4e72be43bac0 div.sk-item {z-index: 1;}#sk-1b7f84ef-3367-47d0-a92e-4e72be43bac0 div.sk-parallel {display: flex;align-items: stretch;justify-content: center;background-color: white;}#sk-1b7f84ef-3367-47d0-a92e-4e72be43bac0 div.sk-parallel::before {content: \"\";position: absolute;border-left: 1px solid gray;box-sizing: border-box;top: 2em;bottom: 0;left: 50%;}#sk-1b7f84ef-3367-47d0-a92e-4e72be43bac0 div.sk-parallel-item {display: flex;flex-direction: column;position: relative;background-color: white;}#sk-1b7f84ef-3367-47d0-a92e-4e72be43bac0 div.sk-parallel-item:first-child::after {align-self: flex-end;width: 50%;}#sk-1b7f84ef-3367-47d0-a92e-4e72be43bac0 div.sk-parallel-item:last-child::after {align-self: flex-start;width: 50%;}#sk-1b7f84ef-3367-47d0-a92e-4e72be43bac0 div.sk-parallel-item:only-child::after {width: 0;}#sk-1b7f84ef-3367-47d0-a92e-4e72be43bac0 div.sk-dashed-wrapped {border: 1px dashed gray;margin: 0 0.4em 0.5em 0.4em;box-sizing: border-box;padding-bottom: 0.4em;background-color: white;position: relative;}#sk-1b7f84ef-3367-47d0-a92e-4e72be43bac0 div.sk-label label {font-family: monospace;font-weight: bold;background-color: white;display: inline-block;line-height: 1.2em;}#sk-1b7f84ef-3367-47d0-a92e-4e72be43bac0 div.sk-label-container {position: relative;z-index: 2;text-align: center;}#sk-1b7f84ef-3367-47d0-a92e-4e72be43bac0 div.sk-container {/* jupyter's `normalize.less` sets `[hidden] { display: none; }` but bootstrap.min.css set `[hidden] { display: none !important; }` so we also need the `!important` here to be able to override the default hidden behavior on the sphinx rendered scikit-learn.org. See: https://github.com/scikit-learn/scikit-learn/issues/21755 */display: inline-block !important;position: relative;}#sk-1b7f84ef-3367-47d0-a92e-4e72be43bac0 div.sk-text-repr-fallback {display: none;}</style><div id=\"sk-1b7f84ef-3367-47d0-a92e-4e72be43bac0\" class=\"sk-top-container\"><div class=\"sk-text-repr-fallback\"><pre>RandomForestRegressor(max_features=6, random_state=42)</pre><b>Please rerun this cell to show the HTML repr or trust the notebook.</b></div><div class=\"sk-container\" hidden><div class=\"sk-item\"><div class=\"sk-estimator sk-toggleable\"><input class=\"sk-toggleable__control sk-hidden--visually\" id=\"020ac823-a56b-4a6a-a443-2dbf13b4bdd5\" type=\"checkbox\" checked><label for=\"020ac823-a56b-4a6a-a443-2dbf13b4bdd5\" class=\"sk-toggleable__label sk-toggleable__label-arrow\">RandomForestRegressor</label><div class=\"sk-toggleable__content\"><pre>RandomForestRegressor(max_features=6, random_state=42)</pre></div></div></div></div></div>"
      ],
      "text/plain": [
       "RandomForestRegressor(max_features=6, random_state=42)"
      ]
     },
     "execution_count": 45,
     "metadata": {},
     "output_type": "execute_result"
    }
   ],
   "source": [
    "grid_search.best_estimator_"
   ]
  },
  {
   "cell_type": "code",
   "execution_count": 46,
   "id": "0cb01f18",
   "metadata": {},
   "outputs": [
    {
     "name": "stdout",
     "output_type": "stream",
     "text": [
      "0.19544965287617894 {'max_features': 2, 'n_estimators': 30}\n",
      "0.1951741272468676 {'max_features': 2, 'n_estimators': 50}\n",
      "0.19238725448468127 {'max_features': 2, 'n_estimators': 100}\n",
      "0.1948901356393197 {'max_features': 4, 'n_estimators': 30}\n",
      "0.1935224702098402 {'max_features': 4, 'n_estimators': 50}\n",
      "0.19142367778966823 {'max_features': 4, 'n_estimators': 100}\n",
      "0.19493053907420263 {'max_features': 6, 'n_estimators': 30}\n",
      "0.19305347547778814 {'max_features': 6, 'n_estimators': 50}\n",
      "0.19111160299612157 {'max_features': 6, 'n_estimators': 100}\n",
      "0.1942661827369134 {'max_features': 8, 'n_estimators': 30}\n",
      "0.1931562887293481 {'max_features': 8, 'n_estimators': 50}\n",
      "0.19175125926091388 {'max_features': 8, 'n_estimators': 100}\n"
     ]
    }
   ],
   "source": [
    "cv_results = grid_search.cv_results_\n",
    "for mean_score, params in zip(cv_results['mean_test_score'], cv_results['params']):\n",
    "    print(np.sqrt(-mean_score), params)"
   ]
  },
  {
   "cell_type": "markdown",
   "id": "fc951322",
   "metadata": {},
   "source": [
    "랜덤 탐색"
   ]
  },
  {
   "cell_type": "code",
   "execution_count": 47,
   "id": "73449c2b",
   "metadata": {},
   "outputs": [
    {
     "name": "stdout",
     "output_type": "stream",
     "text": [
      "Wall time: 11.2 s\n"
     ]
    },
    {
     "data": {
      "text/html": [
       "<style>#sk-6c4c8cb8-1aaf-48ab-b019-2577e665355d {color: black;background-color: white;}#sk-6c4c8cb8-1aaf-48ab-b019-2577e665355d pre{padding: 0;}#sk-6c4c8cb8-1aaf-48ab-b019-2577e665355d div.sk-toggleable {background-color: white;}#sk-6c4c8cb8-1aaf-48ab-b019-2577e665355d label.sk-toggleable__label {cursor: pointer;display: block;width: 100%;margin-bottom: 0;padding: 0.3em;box-sizing: border-box;text-align: center;}#sk-6c4c8cb8-1aaf-48ab-b019-2577e665355d label.sk-toggleable__label-arrow:before {content: \"▸\";float: left;margin-right: 0.25em;color: #696969;}#sk-6c4c8cb8-1aaf-48ab-b019-2577e665355d label.sk-toggleable__label-arrow:hover:before {color: black;}#sk-6c4c8cb8-1aaf-48ab-b019-2577e665355d div.sk-estimator:hover label.sk-toggleable__label-arrow:before {color: black;}#sk-6c4c8cb8-1aaf-48ab-b019-2577e665355d div.sk-toggleable__content {max-height: 0;max-width: 0;overflow: hidden;text-align: left;background-color: #f0f8ff;}#sk-6c4c8cb8-1aaf-48ab-b019-2577e665355d div.sk-toggleable__content pre {margin: 0.2em;color: black;border-radius: 0.25em;background-color: #f0f8ff;}#sk-6c4c8cb8-1aaf-48ab-b019-2577e665355d input.sk-toggleable__control:checked~div.sk-toggleable__content {max-height: 200px;max-width: 100%;overflow: auto;}#sk-6c4c8cb8-1aaf-48ab-b019-2577e665355d input.sk-toggleable__control:checked~label.sk-toggleable__label-arrow:before {content: \"▾\";}#sk-6c4c8cb8-1aaf-48ab-b019-2577e665355d div.sk-estimator input.sk-toggleable__control:checked~label.sk-toggleable__label {background-color: #d4ebff;}#sk-6c4c8cb8-1aaf-48ab-b019-2577e665355d div.sk-label input.sk-toggleable__control:checked~label.sk-toggleable__label {background-color: #d4ebff;}#sk-6c4c8cb8-1aaf-48ab-b019-2577e665355d input.sk-hidden--visually {border: 0;clip: rect(1px 1px 1px 1px);clip: rect(1px, 1px, 1px, 1px);height: 1px;margin: -1px;overflow: hidden;padding: 0;position: absolute;width: 1px;}#sk-6c4c8cb8-1aaf-48ab-b019-2577e665355d div.sk-estimator {font-family: monospace;background-color: #f0f8ff;border: 1px dotted black;border-radius: 0.25em;box-sizing: border-box;margin-bottom: 0.5em;}#sk-6c4c8cb8-1aaf-48ab-b019-2577e665355d div.sk-estimator:hover {background-color: #d4ebff;}#sk-6c4c8cb8-1aaf-48ab-b019-2577e665355d div.sk-parallel-item::after {content: \"\";width: 100%;border-bottom: 1px solid gray;flex-grow: 1;}#sk-6c4c8cb8-1aaf-48ab-b019-2577e665355d div.sk-label:hover label.sk-toggleable__label {background-color: #d4ebff;}#sk-6c4c8cb8-1aaf-48ab-b019-2577e665355d div.sk-serial::before {content: \"\";position: absolute;border-left: 1px solid gray;box-sizing: border-box;top: 2em;bottom: 0;left: 50%;}#sk-6c4c8cb8-1aaf-48ab-b019-2577e665355d div.sk-serial {display: flex;flex-direction: column;align-items: center;background-color: white;padding-right: 0.2em;padding-left: 0.2em;}#sk-6c4c8cb8-1aaf-48ab-b019-2577e665355d div.sk-item {z-index: 1;}#sk-6c4c8cb8-1aaf-48ab-b019-2577e665355d div.sk-parallel {display: flex;align-items: stretch;justify-content: center;background-color: white;}#sk-6c4c8cb8-1aaf-48ab-b019-2577e665355d div.sk-parallel::before {content: \"\";position: absolute;border-left: 1px solid gray;box-sizing: border-box;top: 2em;bottom: 0;left: 50%;}#sk-6c4c8cb8-1aaf-48ab-b019-2577e665355d div.sk-parallel-item {display: flex;flex-direction: column;position: relative;background-color: white;}#sk-6c4c8cb8-1aaf-48ab-b019-2577e665355d div.sk-parallel-item:first-child::after {align-self: flex-end;width: 50%;}#sk-6c4c8cb8-1aaf-48ab-b019-2577e665355d div.sk-parallel-item:last-child::after {align-self: flex-start;width: 50%;}#sk-6c4c8cb8-1aaf-48ab-b019-2577e665355d div.sk-parallel-item:only-child::after {width: 0;}#sk-6c4c8cb8-1aaf-48ab-b019-2577e665355d div.sk-dashed-wrapped {border: 1px dashed gray;margin: 0 0.4em 0.5em 0.4em;box-sizing: border-box;padding-bottom: 0.4em;background-color: white;position: relative;}#sk-6c4c8cb8-1aaf-48ab-b019-2577e665355d div.sk-label label {font-family: monospace;font-weight: bold;background-color: white;display: inline-block;line-height: 1.2em;}#sk-6c4c8cb8-1aaf-48ab-b019-2577e665355d div.sk-label-container {position: relative;z-index: 2;text-align: center;}#sk-6c4c8cb8-1aaf-48ab-b019-2577e665355d div.sk-container {/* jupyter's `normalize.less` sets `[hidden] { display: none; }` but bootstrap.min.css set `[hidden] { display: none !important; }` so we also need the `!important` here to be able to override the default hidden behavior on the sphinx rendered scikit-learn.org. See: https://github.com/scikit-learn/scikit-learn/issues/21755 */display: inline-block !important;position: relative;}#sk-6c4c8cb8-1aaf-48ab-b019-2577e665355d div.sk-text-repr-fallback {display: none;}</style><div id=\"sk-6c4c8cb8-1aaf-48ab-b019-2577e665355d\" class=\"sk-top-container\"><div class=\"sk-text-repr-fallback\"><pre>RandomizedSearchCV(cv=5, estimator=RandomForestRegressor(random_state=42),\n",
       "                   n_jobs=-1,\n",
       "                   param_distributions={&#x27;max_features&#x27;: &lt;scipy.stats._distn_infrastructure.rv_discrete_frozen object at 0x000002095E501D60&gt;,\n",
       "                                        &#x27;n_estimators&#x27;: &lt;scipy.stats._distn_infrastructure.rv_discrete_frozen object at 0x000002095E501D90&gt;},\n",
       "                   random_state=42, scoring=&#x27;neg_mean_squared_error&#x27;)</pre><b>Please rerun this cell to show the HTML repr or trust the notebook.</b></div><div class=\"sk-container\" hidden><div class=\"sk-item sk-dashed-wrapped\"><div class=\"sk-label-container\"><div class=\"sk-label sk-toggleable\"><input class=\"sk-toggleable__control sk-hidden--visually\" id=\"9891c573-d4b0-48a5-b73b-a0719444060f\" type=\"checkbox\" ><label for=\"9891c573-d4b0-48a5-b73b-a0719444060f\" class=\"sk-toggleable__label sk-toggleable__label-arrow\">RandomizedSearchCV</label><div class=\"sk-toggleable__content\"><pre>RandomizedSearchCV(cv=5, estimator=RandomForestRegressor(random_state=42),\n",
       "                   n_jobs=-1,\n",
       "                   param_distributions={&#x27;max_features&#x27;: &lt;scipy.stats._distn_infrastructure.rv_discrete_frozen object at 0x000002095E501D60&gt;,\n",
       "                                        &#x27;n_estimators&#x27;: &lt;scipy.stats._distn_infrastructure.rv_discrete_frozen object at 0x000002095E501D90&gt;},\n",
       "                   random_state=42, scoring=&#x27;neg_mean_squared_error&#x27;)</pre></div></div></div><div class=\"sk-parallel\"><div class=\"sk-parallel-item\"><div class=\"sk-item\"><div class=\"sk-serial\"><div class=\"sk-item\"><div class=\"sk-estimator sk-toggleable\"><input class=\"sk-toggleable__control sk-hidden--visually\" id=\"9d4fbbab-3630-4531-aacf-aca0b8d6e4dc\" type=\"checkbox\" ><label for=\"9d4fbbab-3630-4531-aacf-aca0b8d6e4dc\" class=\"sk-toggleable__label sk-toggleable__label-arrow\">RandomForestRegressor</label><div class=\"sk-toggleable__content\"><pre>RandomForestRegressor(random_state=42)</pre></div></div></div></div></div></div></div></div></div></div>"
      ],
      "text/plain": [
       "RandomizedSearchCV(cv=5, estimator=RandomForestRegressor(random_state=42),\n",
       "                   n_jobs=-1,\n",
       "                   param_distributions={'max_features': <scipy.stats._distn_infrastructure.rv_discrete_frozen object at 0x000002095E501D60>,\n",
       "                                        'n_estimators': <scipy.stats._distn_infrastructure.rv_discrete_frozen object at 0x000002095E501D90>},\n",
       "                   random_state=42, scoring='neg_mean_squared_error')"
      ]
     },
     "execution_count": 47,
     "metadata": {},
     "output_type": "execute_result"
    }
   ],
   "source": [
    "from sklearn.model_selection import RandomizedSearchCV\n",
    "from scipy.stats import randint\n",
    "\n",
    "param_distribs = {'n_estimators' : randint(low=1, high=200),\n",
    "                  'max_features' : randint(low=1, high=8)}\n",
    "\n",
    "rnd_search = RandomizedSearchCV(rf_reg, param_distribs, n_iter=10, scoring='neg_mean_squared_error', cv=5, n_jobs=-1, random_state=42)                  \n",
    "rnd_search.fit(X_prepared, y_train)"
   ]
  },
  {
   "cell_type": "code",
   "execution_count": 48,
   "id": "05f0caf3",
   "metadata": {},
   "outputs": [
    {
     "data": {
      "text/plain": [
       "{'max_features': 7, 'n_estimators': 180}"
      ]
     },
     "execution_count": 48,
     "metadata": {},
     "output_type": "execute_result"
    }
   ],
   "source": [
    "rnd_search.best_params_"
   ]
  },
  {
   "cell_type": "code",
   "execution_count": 49,
   "id": "60f2765a",
   "metadata": {},
   "outputs": [
    {
     "data": {
      "text/html": [
       "<style>#sk-8ad3ed5f-ecc4-4d0c-8985-dda953749b69 {color: black;background-color: white;}#sk-8ad3ed5f-ecc4-4d0c-8985-dda953749b69 pre{padding: 0;}#sk-8ad3ed5f-ecc4-4d0c-8985-dda953749b69 div.sk-toggleable {background-color: white;}#sk-8ad3ed5f-ecc4-4d0c-8985-dda953749b69 label.sk-toggleable__label {cursor: pointer;display: block;width: 100%;margin-bottom: 0;padding: 0.3em;box-sizing: border-box;text-align: center;}#sk-8ad3ed5f-ecc4-4d0c-8985-dda953749b69 label.sk-toggleable__label-arrow:before {content: \"▸\";float: left;margin-right: 0.25em;color: #696969;}#sk-8ad3ed5f-ecc4-4d0c-8985-dda953749b69 label.sk-toggleable__label-arrow:hover:before {color: black;}#sk-8ad3ed5f-ecc4-4d0c-8985-dda953749b69 div.sk-estimator:hover label.sk-toggleable__label-arrow:before {color: black;}#sk-8ad3ed5f-ecc4-4d0c-8985-dda953749b69 div.sk-toggleable__content {max-height: 0;max-width: 0;overflow: hidden;text-align: left;background-color: #f0f8ff;}#sk-8ad3ed5f-ecc4-4d0c-8985-dda953749b69 div.sk-toggleable__content pre {margin: 0.2em;color: black;border-radius: 0.25em;background-color: #f0f8ff;}#sk-8ad3ed5f-ecc4-4d0c-8985-dda953749b69 input.sk-toggleable__control:checked~div.sk-toggleable__content {max-height: 200px;max-width: 100%;overflow: auto;}#sk-8ad3ed5f-ecc4-4d0c-8985-dda953749b69 input.sk-toggleable__control:checked~label.sk-toggleable__label-arrow:before {content: \"▾\";}#sk-8ad3ed5f-ecc4-4d0c-8985-dda953749b69 div.sk-estimator input.sk-toggleable__control:checked~label.sk-toggleable__label {background-color: #d4ebff;}#sk-8ad3ed5f-ecc4-4d0c-8985-dda953749b69 div.sk-label input.sk-toggleable__control:checked~label.sk-toggleable__label {background-color: #d4ebff;}#sk-8ad3ed5f-ecc4-4d0c-8985-dda953749b69 input.sk-hidden--visually {border: 0;clip: rect(1px 1px 1px 1px);clip: rect(1px, 1px, 1px, 1px);height: 1px;margin: -1px;overflow: hidden;padding: 0;position: absolute;width: 1px;}#sk-8ad3ed5f-ecc4-4d0c-8985-dda953749b69 div.sk-estimator {font-family: monospace;background-color: #f0f8ff;border: 1px dotted black;border-radius: 0.25em;box-sizing: border-box;margin-bottom: 0.5em;}#sk-8ad3ed5f-ecc4-4d0c-8985-dda953749b69 div.sk-estimator:hover {background-color: #d4ebff;}#sk-8ad3ed5f-ecc4-4d0c-8985-dda953749b69 div.sk-parallel-item::after {content: \"\";width: 100%;border-bottom: 1px solid gray;flex-grow: 1;}#sk-8ad3ed5f-ecc4-4d0c-8985-dda953749b69 div.sk-label:hover label.sk-toggleable__label {background-color: #d4ebff;}#sk-8ad3ed5f-ecc4-4d0c-8985-dda953749b69 div.sk-serial::before {content: \"\";position: absolute;border-left: 1px solid gray;box-sizing: border-box;top: 2em;bottom: 0;left: 50%;}#sk-8ad3ed5f-ecc4-4d0c-8985-dda953749b69 div.sk-serial {display: flex;flex-direction: column;align-items: center;background-color: white;padding-right: 0.2em;padding-left: 0.2em;}#sk-8ad3ed5f-ecc4-4d0c-8985-dda953749b69 div.sk-item {z-index: 1;}#sk-8ad3ed5f-ecc4-4d0c-8985-dda953749b69 div.sk-parallel {display: flex;align-items: stretch;justify-content: center;background-color: white;}#sk-8ad3ed5f-ecc4-4d0c-8985-dda953749b69 div.sk-parallel::before {content: \"\";position: absolute;border-left: 1px solid gray;box-sizing: border-box;top: 2em;bottom: 0;left: 50%;}#sk-8ad3ed5f-ecc4-4d0c-8985-dda953749b69 div.sk-parallel-item {display: flex;flex-direction: column;position: relative;background-color: white;}#sk-8ad3ed5f-ecc4-4d0c-8985-dda953749b69 div.sk-parallel-item:first-child::after {align-self: flex-end;width: 50%;}#sk-8ad3ed5f-ecc4-4d0c-8985-dda953749b69 div.sk-parallel-item:last-child::after {align-self: flex-start;width: 50%;}#sk-8ad3ed5f-ecc4-4d0c-8985-dda953749b69 div.sk-parallel-item:only-child::after {width: 0;}#sk-8ad3ed5f-ecc4-4d0c-8985-dda953749b69 div.sk-dashed-wrapped {border: 1px dashed gray;margin: 0 0.4em 0.5em 0.4em;box-sizing: border-box;padding-bottom: 0.4em;background-color: white;position: relative;}#sk-8ad3ed5f-ecc4-4d0c-8985-dda953749b69 div.sk-label label {font-family: monospace;font-weight: bold;background-color: white;display: inline-block;line-height: 1.2em;}#sk-8ad3ed5f-ecc4-4d0c-8985-dda953749b69 div.sk-label-container {position: relative;z-index: 2;text-align: center;}#sk-8ad3ed5f-ecc4-4d0c-8985-dda953749b69 div.sk-container {/* jupyter's `normalize.less` sets `[hidden] { display: none; }` but bootstrap.min.css set `[hidden] { display: none !important; }` so we also need the `!important` here to be able to override the default hidden behavior on the sphinx rendered scikit-learn.org. See: https://github.com/scikit-learn/scikit-learn/issues/21755 */display: inline-block !important;position: relative;}#sk-8ad3ed5f-ecc4-4d0c-8985-dda953749b69 div.sk-text-repr-fallback {display: none;}</style><div id=\"sk-8ad3ed5f-ecc4-4d0c-8985-dda953749b69\" class=\"sk-top-container\"><div class=\"sk-text-repr-fallback\"><pre>RandomForestRegressor(max_features=7, n_estimators=180, random_state=42)</pre><b>Please rerun this cell to show the HTML repr or trust the notebook.</b></div><div class=\"sk-container\" hidden><div class=\"sk-item\"><div class=\"sk-estimator sk-toggleable\"><input class=\"sk-toggleable__control sk-hidden--visually\" id=\"6e954e7f-e54f-403d-9d83-c5badedc16e2\" type=\"checkbox\" checked><label for=\"6e954e7f-e54f-403d-9d83-c5badedc16e2\" class=\"sk-toggleable__label sk-toggleable__label-arrow\">RandomForestRegressor</label><div class=\"sk-toggleable__content\"><pre>RandomForestRegressor(max_features=7, n_estimators=180, random_state=42)</pre></div></div></div></div></div>"
      ],
      "text/plain": [
       "RandomForestRegressor(max_features=7, n_estimators=180, random_state=42)"
      ]
     },
     "execution_count": 49,
     "metadata": {},
     "output_type": "execute_result"
    }
   ],
   "source": [
    "rnd_search.best_estimator_"
   ]
  },
  {
   "cell_type": "code",
   "execution_count": 50,
   "id": "90cc7bc5",
   "metadata": {},
   "outputs": [
    {
     "name": "stdout",
     "output_type": "stream",
     "text": [
      "0.19020338067233586 {'max_features': 7, 'n_estimators': 180}\n",
      "0.19605041191290556 {'max_features': 5, 'n_estimators': 15}\n",
      "0.19159550404224007 {'max_features': 3, 'n_estimators': 72}\n",
      "0.19484548387525916 {'max_features': 5, 'n_estimators': 21}\n",
      "0.19067770168451623 {'max_features': 7, 'n_estimators': 122}\n",
      "0.1913715486942466 {'max_features': 3, 'n_estimators': 75}\n",
      "0.19124421463036406 {'max_features': 3, 'n_estimators': 88}\n",
      "0.19075031811689513 {'max_features': 5, 'n_estimators': 100}\n",
      "0.19058043154518367 {'max_features': 3, 'n_estimators': 150}\n",
      "0.22888530343172658 {'max_features': 5, 'n_estimators': 2}\n"
     ]
    }
   ],
   "source": [
    "cv_results = rnd_search.cv_results_\n",
    "for mean_score, params in zip(cv_results['mean_test_score'], cv_results['params']):\n",
    "    print(np.sqrt(-mean_score), params)"
   ]
  },
  {
   "cell_type": "code",
   "execution_count": 51,
   "id": "a3cb07cf",
   "metadata": {},
   "outputs": [],
   "source": [
    "best_model = grid_search.best_estimator_"
   ]
  },
  {
   "cell_type": "code",
   "execution_count": 52,
   "id": "cc6fbca9",
   "metadata": {},
   "outputs": [],
   "source": [
    "feature_importances = best_model.feature_importances_"
   ]
  },
  {
   "cell_type": "code",
   "execution_count": 69,
   "id": "07bfdc6d",
   "metadata": {},
   "outputs": [],
   "source": [
    "log_attribs2 = ['avg_glucose_level','bmi']\n",
    "std_attribs2 = ['age']\n",
    "pass_attribs2 = ['id','hypertension', 'heart_disease']\n",
    "cat_attribs2 = ['Female', 'Male', 'Other','No', 'Yes','Govt_job', 'Never_worked', 'Private', 'Self-employed', 'children','Rural', 'Urban','Unknown', 'formerly smoked', 'never smoked', 'smokes']\n",
    "\n",
    "attributes = log_attribs2 + std_attribs2 + cat_attribs2 + pass_attribs2"
   ]
  },
  {
   "cell_type": "code",
   "execution_count": 70,
   "id": "f3b294cc",
   "metadata": {},
   "outputs": [
    {
     "data": {
      "text/plain": [
       "[(0.21866972374226856, 'avg_glucose_level'),\n",
       " (0.2166832004102462, 'age'),\n",
       " (0.1914419748635998, 'id'),\n",
       " (0.1737067476518498, 'bmi'),\n",
       " (0.01720581193066899, 'Rural'),\n",
       " (0.016736710225798646, 'never smoked'),\n",
       " (0.016678399231018375, 'Urban'),\n",
       " (0.016533760888545728, 'hypertension'),\n",
       " (0.01596418569655845, 'Female'),\n",
       " (0.014598720609050136, 'formerly smoked'),\n",
       " (0.014201597874707511, 'Male'),\n",
       " (0.013896936639324078, 'heart_disease'),\n",
       " (0.01352967313431167, 'smokes'),\n",
       " (0.0134195479829147, 'Private'),\n",
       " (0.012838928406515215, 'Unknown'),\n",
       " (0.012166775959534934, 'Self-employed'),\n",
       " (0.00964676275184138, 'Govt_job'),\n",
       " (0.0061017872906187435, 'Yes'),\n",
       " (0.005577154733426333, 'No'),\n",
       " (0.0004014390125436936, 'children'),\n",
       " (1.6096465719453074e-07, 'Never_worked'),\n",
       " (0.0, 'Other')]"
      ]
     },
     "execution_count": 70,
     "metadata": {},
     "output_type": "execute_result"
    }
   ],
   "source": [
    "sorted(zip(feature_importances, attributes), reverse=True)"
   ]
  },
  {
   "cell_type": "code",
   "execution_count": null,
   "id": "fff72f44",
   "metadata": {},
   "outputs": [],
   "source": []
  }
 ],
 "metadata": {
  "kernelspec": {
   "display_name": "Python 3 (ipykernel)",
   "language": "python",
   "name": "python3"
  },
  "language_info": {
   "codemirror_mode": {
    "name": "ipython",
    "version": 3
   },
   "file_extension": ".py",
   "mimetype": "text/x-python",
   "name": "python",
   "nbconvert_exporter": "python",
   "pygments_lexer": "ipython3",
   "version": "3.9.13"
  }
 },
 "nbformat": 4,
 "nbformat_minor": 5
}
